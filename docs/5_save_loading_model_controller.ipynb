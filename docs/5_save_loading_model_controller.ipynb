{
 "cells": [
  {
   "cell_type": "markdown",
   "metadata": {},
   "source": [
    "You may have noticed that saving of trained models / controllers is no longer as straightforward.\n",
    "\n",
    "However, it is still possible. Let's see how."
   ]
  },
  {
   "cell_type": "code",
   "execution_count": 1,
   "metadata": {
    "execution": {
     "iopub.execute_input": "2022-11-25T22:58:44.417071Z",
     "iopub.status.busy": "2022-11-25T22:58:44.416590Z",
     "iopub.status.idle": "2022-11-25T22:58:45.385829Z",
     "shell.execute_reply": "2022-11-25T22:58:45.385332Z"
    }
   },
   "outputs": [
    {
     "name": "stderr",
     "output_type": "stream",
     "text": [
      "/home/simon/miniforge3/envs/chain_control/lib/python3.9/site-packages/tqdm/auto.py:22: TqdmWarning: IProgress not found. Please update jupyter and ipywidgets. See https://ipywidgets.readthedocs.io/en/stable/user_install.html\n",
      "  from .autonotebook import tqdm as notebook_tqdm\n"
     ]
    },
    {
     "name": "stderr",
     "output_type": "stream",
     "text": [
      "WARNING:jax._src.lib.xla_bridge:No GPU/TPU found, falling back to CPU. (Set TF_CPP_MIN_LOG_LEVEL=0 and rerun for more info.)\n"
     ]
    }
   ],
   "source": [
    "from cc import save, load  \n",
    "from cc.examples.feedforward_controller import make_feedforward_controller\n",
    "from cc.env import make_env\n",
    "import equinox as eqx \n",
    "from cc.env.collect import collect\n",
    "import jax.numpy as jnp "
   ]
  },
  {
   "cell_type": "code",
   "execution_count": 2,
   "metadata": {
    "execution": {
     "iopub.execute_input": "2022-11-25T22:58:45.388114Z",
     "iopub.status.busy": "2022-11-25T22:58:45.387900Z",
     "iopub.status.idle": "2022-11-25T22:58:45.487673Z",
     "shell.execute_reply": "2022-11-25T22:58:45.487268Z"
    }
   },
   "outputs": [],
   "source": [
    "env = make_env(\"two_segments_v1\", random=1)\n",
    "controller = make_feedforward_controller(jnp.ones((1000,1)))"
   ]
  },
  {
   "cell_type": "markdown",
   "metadata": {},
   "source": [
    "`ReplaySample` objects can still be stored using the more convenient `load` and `save` functions."
   ]
  },
  {
   "cell_type": "code",
   "execution_count": 3,
   "metadata": {
    "execution": {
     "iopub.execute_input": "2022-11-25T22:58:45.489783Z",
     "iopub.status.busy": "2022-11-25T22:58:45.489582Z",
     "iopub.status.idle": "2022-11-25T22:58:46.121117Z",
     "shell.execute_reply": "2022-11-25T22:58:46.120701Z"
    }
   },
   "outputs": [],
   "source": [
    "replay_sample = collect(env, controller)\n",
    "\n",
    "save(replay_sample, \"replay_sample.pkl\"); \n",
    "_ = load(\"replay_sample.pkl\")"
   ]
  },
  {
   "cell_type": "markdown",
   "metadata": {},
   "source": [
    "However, for objects that inherit from `eqx.Module` this will not work"
   ]
  },
  {
   "cell_type": "code",
   "execution_count": 4,
   "metadata": {
    "execution": {
     "iopub.execute_input": "2022-11-25T22:58:46.123287Z",
     "iopub.status.busy": "2022-11-25T22:58:46.123088Z",
     "iopub.status.idle": "2022-11-25T22:58:46.209466Z",
     "shell.execute_reply": "2022-11-25T22:58:46.209095Z"
    }
   },
   "outputs": [
    {
     "ename": "Exception",
     "evalue": "Not possible. Use `eqx.tree_serialise_leaves(path, obj)` instead.\n            To de-serialise use `eqx.tree_deserialise_leaves`.",
     "output_type": "error",
     "traceback": [
      "\u001b[0;31m---------------------------------------------------------------------------\u001b[0m",
      "\u001b[0;31mException\u001b[0m                                 Traceback (most recent call last)",
      "Cell \u001b[0;32mIn [4], line 1\u001b[0m\n\u001b[0;32m----> 1\u001b[0m \u001b[43msave\u001b[49m\u001b[43m(\u001b[49m\u001b[43mcontroller\u001b[49m\u001b[43m,\u001b[49m\u001b[43m \u001b[49m\u001b[38;5;124;43m\"\u001b[39;49m\u001b[38;5;124;43mcontroller.pkl\u001b[39;49m\u001b[38;5;124;43m\"\u001b[39;49m\u001b[43m)\u001b[49m\n",
      "File \u001b[0;32m~/Documents/PYTHON/chain_control/chain_control/cc/core/save_load.py:16\u001b[0m, in \u001b[0;36msave\u001b[0;34m(obj, path, metadata, verbose)\u001b[0m\n\u001b[1;32m     13\u001b[0m \u001b[38;5;28;01mdef\u001b[39;00m \u001b[38;5;21msave\u001b[39m(obj, path, metadata\u001b[38;5;241m=\u001b[39m{}, verbose\u001b[38;5;241m=\u001b[39m\u001b[38;5;28;01mTrue\u001b[39;00m):\n\u001b[1;32m     15\u001b[0m     \u001b[38;5;28;01mif\u001b[39;00m \u001b[38;5;28misinstance\u001b[39m(obj, eqx\u001b[38;5;241m.\u001b[39mModule):\n\u001b[0;32m---> 16\u001b[0m         \u001b[38;5;28;01mraise\u001b[39;00m \u001b[38;5;167;01mException\u001b[39;00m(\n\u001b[1;32m     17\u001b[0m             \u001b[38;5;124;03m\"\"\"Not possible. Use `eqx.tree_serialise_leaves(path, obj)` instead.\u001b[39;00m\n\u001b[1;32m     18\u001b[0m \u001b[38;5;124;03m            To de-serialise use `eqx.tree_deserialise_leaves`.\"\"\"\u001b[39;00m\n\u001b[1;32m     19\u001b[0m         )\n\u001b[1;32m     21\u001b[0m     \u001b[38;5;28;01mif\u001b[39;00m metadata \u001b[38;5;241m==\u001b[39m {}:\n\u001b[1;32m     22\u001b[0m         \u001b[38;5;28;01mwith\u001b[39;00m \u001b[38;5;28mopen\u001b[39m(path, \u001b[38;5;124m\"\u001b[39m\u001b[38;5;124mwb\u001b[39m\u001b[38;5;124m\"\u001b[39m) \u001b[38;5;28;01mas\u001b[39;00m file:\n",
      "\u001b[0;31mException\u001b[0m: Not possible. Use `eqx.tree_serialise_leaves(path, obj)` instead.\n            To de-serialise use `eqx.tree_deserialise_leaves`."
     ]
    }
   ],
   "source": [
    "save(controller, \"controller.pkl\")"
   ]
  },
  {
   "cell_type": "markdown",
   "metadata": {},
   "source": [
    "Instead, we will have to use the more verbose syntax"
   ]
  },
  {
   "cell_type": "code",
   "execution_count": 5,
   "metadata": {
    "execution": {
     "iopub.execute_input": "2022-11-25T22:58:46.211357Z",
     "iopub.status.busy": "2022-11-25T22:58:46.211233Z",
     "iopub.status.idle": "2022-11-25T22:58:46.215188Z",
     "shell.execute_reply": "2022-11-25T22:58:46.214817Z"
    }
   },
   "outputs": [],
   "source": [
    "# the extension is convention\n",
    "# think of this operation as only dumping the parameters on disk\n",
    "# but not the controller structure\n",
    "eqx.tree_serialise_leaves(\"controller.eqx\", controller)\n",
    "\n",
    "# hence to de-serialise we will have to provide the structure \n",
    "# and the parameters will be overwritten\n",
    "controller = eqx.tree_deserialise_leaves(\"controller.eqx\", controller)"
   ]
  },
  {
   "cell_type": "code",
   "execution_count": 6,
   "metadata": {
    "execution": {
     "iopub.execute_input": "2022-11-25T22:58:46.216618Z",
     "iopub.status.busy": "2022-11-25T22:58:46.216459Z",
     "iopub.status.idle": "2022-11-25T22:58:46.222047Z",
     "shell.execute_reply": "2022-11-25T22:58:46.221739Z"
    }
   },
   "outputs": [
    {
     "data": {
      "text/plain": [
       "FeedforwardController(us=f32[1000,1], count=i32[1])"
      ]
     },
     "execution_count": 6,
     "metadata": {},
     "output_type": "execute_result"
    }
   ],
   "source": [
    "controller"
   ]
  },
  {
   "cell_type": "markdown",
   "metadata": {},
   "source": [
    "What if (you still try to do this using `load`)?"
   ]
  },
  {
   "cell_type": "code",
   "execution_count": 7,
   "metadata": {
    "execution": {
     "iopub.execute_input": "2022-11-25T22:58:46.223652Z",
     "iopub.status.busy": "2022-11-25T22:58:46.223447Z",
     "iopub.status.idle": "2022-11-25T22:58:46.234214Z",
     "shell.execute_reply": "2022-11-25T22:58:46.233921Z"
    }
   },
   "outputs": [
    {
     "ename": "UnpicklingError",
     "evalue": "STACK_GLOBAL requires str",
     "output_type": "error",
     "traceback": [
      "\u001b[0;31m---------------------------------------------------------------------------\u001b[0m",
      "\u001b[0;31mUnpicklingError\u001b[0m                           Traceback (most recent call last)",
      "Cell \u001b[0;32mIn [7], line 1\u001b[0m\n\u001b[0;32m----> 1\u001b[0m \u001b[43mload\u001b[49m\u001b[43m(\u001b[49m\u001b[38;5;124;43m\"\u001b[39;49m\u001b[38;5;124;43mcontroller.eqx\u001b[39;49m\u001b[38;5;124;43m\"\u001b[39;49m\u001b[43m)\u001b[49m\n",
      "File \u001b[0;32m~/Documents/PYTHON/chain_control/chain_control/cc/core/save_load.py:9\u001b[0m, in \u001b[0;36mload\u001b[0;34m(path)\u001b[0m\n\u001b[1;32m      7\u001b[0m \u001b[38;5;28;01mdef\u001b[39;00m \u001b[38;5;21mload\u001b[39m(path):\n\u001b[1;32m      8\u001b[0m     \u001b[38;5;28;01mwith\u001b[39;00m \u001b[38;5;28mopen\u001b[39m(path, \u001b[38;5;124m\"\u001b[39m\u001b[38;5;124mrb\u001b[39m\u001b[38;5;124m\"\u001b[39m) \u001b[38;5;28;01mas\u001b[39;00m file:\n\u001b[0;32m----> 9\u001b[0m         obj \u001b[38;5;241m=\u001b[39m \u001b[43mcloudpickle\u001b[49m\u001b[38;5;241;43m.\u001b[39;49m\u001b[43mload\u001b[49m\u001b[43m(\u001b[49m\u001b[43mfile\u001b[49m\u001b[43m)\u001b[49m\n\u001b[1;32m     10\u001b[0m     \u001b[38;5;28;01mreturn\u001b[39;00m obj\n",
      "\u001b[0;31mUnpicklingError\u001b[0m: STACK_GLOBAL requires str"
     ]
    }
   ],
   "source": [
    "load(\"controller.eqx\")"
   ]
  },
  {
   "cell_type": "code",
   "execution_count": null,
   "metadata": {},
   "outputs": [],
   "source": []
  }
 ],
 "metadata": {
  "kernelspec": {
   "display_name": "Python 3.10.6 64-bit",
   "language": "python",
   "name": "python3"
  },
  "language_info": {
   "codemirror_mode": {
    "name": "ipython",
    "version": 3
   },
   "file_extension": ".py",
   "mimetype": "text/x-python",
   "name": "python",
   "nbconvert_exporter": "python",
   "pygments_lexer": "ipython3",
   "version": "3.10.6"
  },
  "vscode": {
   "interpreter": {
    "hash": "9f732ea8516037f445d82ae14a0af0ee43f2ecec3f72ae2d1ac98ce9ad4e4b6a"
   }
  }
 },
 "nbformat": 4,
 "nbformat_minor": 2
}
