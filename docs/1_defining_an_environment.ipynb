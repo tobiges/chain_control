{
 "cells": [
  {
   "cell_type": "markdown",
   "metadata": {},
   "source": [
    "# Defining an Environment\n",
    "\n",
    "Here we will re-define the environment `two_segments_v1`\n",
    "\n",
    "Every environment consists of\n",
    "- a Mujoco Specification File (end in .xml)\n",
    "- a Python File \n",
    "\n",
    "The .xml file is used be Mujoco to simulate the system. \n",
    "\n",
    "The Python file is used to define how to interface/interact with this Mujoco Simulation, e.g. what we are allowed to alter at every timestep (usually the control).\n"
   ]
  },
  {
   "cell_type": "code",
   "execution_count": 1,
   "metadata": {
    "execution": {
     "iopub.execute_input": "2022-12-27T20:08:15.381432Z",
     "iopub.status.busy": "2022-12-27T20:08:15.380441Z",
     "iopub.status.idle": "2022-12-27T20:08:15.958028Z",
     "shell.execute_reply": "2022-12-27T20:08:15.957519Z"
    }
   },
   "outputs": [
    {
     "name": "stderr",
     "output_type": "stream",
     "text": [
      "/home/tobi/miniconda3/envs/aibe/lib/python3.9/site-packages/glfw/__init__.py:912: GLFWError: (65544) b'X11: Failed to open display 172.30.192.1:0'\n",
      "  warnings.warn(message, GLFWError)\n"
     ]
    },
    {
     "ename": "ImportError",
     "evalue": "libpython3.9.so.1.0: cannot open shared object file: No such file or directory",
     "output_type": "error",
     "traceback": [
      "\u001b[0;31m---------------------------------------------------------------------------\u001b[0m",
      "\u001b[0;31mImportError\u001b[0m                               Traceback (most recent call last)",
      "\u001b[1;32m/home/tobi/uni/aibe/chain_control/docs/1_defining_an_environment.ipynb Cell 2\u001b[0m in \u001b[0;36m<cell line: 5>\u001b[0;34m()\u001b[0m\n\u001b[1;32m      <a href='vscode-notebook-cell://wsl%2Bubuntu/home/tobi/uni/aibe/chain_control/docs/1_defining_an_environment.ipynb#W1sdnNjb2RlLXJlbW90ZQ%3D%3D?line=2'>3</a>\u001b[0m \u001b[39mfrom\u001b[39;00m \u001b[39mcollections\u001b[39;00m \u001b[39mimport\u001b[39;00m OrderedDict\n\u001b[1;32m      <a href='vscode-notebook-cell://wsl%2Bubuntu/home/tobi/uni/aibe/chain_control/docs/1_defining_an_environment.ipynb#W1sdnNjb2RlLXJlbW90ZQ%3D%3D?line=3'>4</a>\u001b[0m \u001b[39mimport\u001b[39;00m \u001b[39mnumpy\u001b[39;00m \u001b[39mas\u001b[39;00m \u001b[39mnp\u001b[39;00m \n\u001b[0;32m----> <a href='vscode-notebook-cell://wsl%2Bubuntu/home/tobi/uni/aibe/chain_control/docs/1_defining_an_environment.ipynb#W1sdnNjb2RlLXJlbW90ZQ%3D%3D?line=4'>5</a>\u001b[0m \u001b[39mfrom\u001b[39;00m \u001b[39mcc\u001b[39;00m\u001b[39m.\u001b[39;00m\u001b[39menv\u001b[39;00m\u001b[39m.\u001b[39;00m\u001b[39menvs\u001b[39;00m\u001b[39m.\u001b[39;00m\u001b[39mcommon\u001b[39;00m \u001b[39mimport\u001b[39;00m read_model, ASSETS \n\u001b[1;32m      <a href='vscode-notebook-cell://wsl%2Bubuntu/home/tobi/uni/aibe/chain_control/docs/1_defining_an_environment.ipynb#W1sdnNjb2RlLXJlbW90ZQ%3D%3D?line=5'>6</a>\u001b[0m \u001b[39mfrom\u001b[39;00m \u001b[39mcc\u001b[39;00m\u001b[39m.\u001b[39;00m\u001b[39mutils\u001b[39;00m\u001b[39m.\u001b[39;00m\u001b[39msample_from_spec\u001b[39;00m \u001b[39mimport\u001b[39;00m _spec_from_observation\n\u001b[1;32m      <a href='vscode-notebook-cell://wsl%2Bubuntu/home/tobi/uni/aibe/chain_control/docs/1_defining_an_environment.ipynb#W1sdnNjb2RlLXJlbW90ZQ%3D%3D?line=6'>7</a>\u001b[0m \u001b[39mfrom\u001b[39;00m \u001b[39mcc\u001b[39;00m\u001b[39m.\u001b[39;00m\u001b[39menv\u001b[39;00m \u001b[39mimport\u001b[39;00m make_env\n",
      "File \u001b[0;32m~/uni/aibe/chain_control/cc/__init__.py:1\u001b[0m, in \u001b[0;36m<module>\u001b[0;34m\u001b[0m\n\u001b[0;32m----> 1\u001b[0m \u001b[39mfrom\u001b[39;00m \u001b[39m.\u001b[39;00m\u001b[39mcore\u001b[39;00m\u001b[39m.\u001b[39;00m\u001b[39msave_load\u001b[39;00m \u001b[39mimport\u001b[39;00m load, save\n",
      "File \u001b[0;32m~/uni/aibe/chain_control/cc/core/__init__.py:1\u001b[0m, in \u001b[0;36m<module>\u001b[0;34m\u001b[0m\n\u001b[0;32m----> 1\u001b[0m \u001b[39mfrom\u001b[39;00m \u001b[39m.\u001b[39;00m\u001b[39mabstract\u001b[39;00m \u001b[39mimport\u001b[39;00m (\n\u001b[1;32m      2\u001b[0m     AbstractController,\n\u001b[1;32m      3\u001b[0m     AbstractModel,\n\u001b[1;32m      4\u001b[0m     AbstractObservationReferenceSource,\n\u001b[1;32m      5\u001b[0m )\n\u001b[1;32m      6\u001b[0m \u001b[39mfrom\u001b[39;00m \u001b[39m.\u001b[39;00m\u001b[39msave_load\u001b[39;00m \u001b[39mimport\u001b[39;00m load, save\n\u001b[1;32m      7\u001b[0m \u001b[39mfrom\u001b[39;00m \u001b[39m.\u001b[39;00m\u001b[39mtypes\u001b[39;00m \u001b[39mimport\u001b[39;00m PRNGKey, PyTree\n",
      "File \u001b[0;32m~/uni/aibe/chain_control/cc/core/abstract.py:8\u001b[0m, in \u001b[0;36m<module>\u001b[0;34m\u001b[0m\n\u001b[1;32m      5\u001b[0m \u001b[39mimport\u001b[39;00m \u001b[39mjax\u001b[39;00m\u001b[39m.\u001b[39;00m\u001b[39mnumpy\u001b[39;00m \u001b[39mas\u001b[39;00m \u001b[39mjnp\u001b[39;00m\n\u001b[1;32m      6\u001b[0m \u001b[39mimport\u001b[39;00m \u001b[39mjax\u001b[39;00m\u001b[39m.\u001b[39;00m\u001b[39mtree_util\u001b[39;00m \u001b[39mas\u001b[39;00m \u001b[39mjtu\u001b[39;00m\n\u001b[0;32m----> 8\u001b[0m \u001b[39mfrom\u001b[39;00m \u001b[39m.\u001b[39;00m\u001b[39m.\u001b[39;00m\u001b[39mutils\u001b[39;00m \u001b[39mimport\u001b[39;00m add_batch_dim, tree_concat\n\u001b[1;32m      9\u001b[0m \u001b[39mfrom\u001b[39;00m \u001b[39m.\u001b[39;00m\u001b[39mmodule_utils\u001b[39;00m \u001b[39mimport\u001b[39;00m filter_scan_module\n\u001b[1;32m     10\u001b[0m \u001b[39mfrom\u001b[39;00m \u001b[39m.\u001b[39;00m\u001b[39mtypes\u001b[39;00m \u001b[39mimport\u001b[39;00m BatchedTimeSeriesOfRef, PyTree, TimeSeriesOfRef\n",
      "File \u001b[0;32m~/uni/aibe/chain_control/cc/utils/__init__.py:2\u001b[0m, in \u001b[0;36m<module>\u001b[0;34m\u001b[0m\n\u001b[1;32m      1\u001b[0m \u001b[39mfrom\u001b[39;00m \u001b[39m.\u001b[39;00m\u001b[39msample_from_spec\u001b[39;00m \u001b[39mimport\u001b[39;00m \u001b[39m*\u001b[39m  \u001b[39m# noqa: F403\u001b[39;00m\n\u001b[0;32m----> 2\u001b[0m \u001b[39mfrom\u001b[39;00m \u001b[39m.\u001b[39;00m\u001b[39mtree\u001b[39;00m \u001b[39mimport\u001b[39;00m \u001b[39m*\u001b[39m  \u001b[39m# noqa: F403\u001b[39;00m\n\u001b[1;32m      3\u001b[0m \u001b[39mfrom\u001b[39;00m \u001b[39m.\u001b[39;00m\u001b[39mutils\u001b[39;00m \u001b[39mimport\u001b[39;00m \u001b[39m*\u001b[39m\n",
      "File \u001b[0;32m~/uni/aibe/chain_control/cc/utils/tree.py:9\u001b[0m, in \u001b[0;36m<module>\u001b[0;34m\u001b[0m\n\u001b[1;32m      7\u001b[0m \u001b[39mimport\u001b[39;00m \u001b[39mjax\u001b[39;00m\u001b[39m.\u001b[39;00m\u001b[39mtree_util\u001b[39;00m \u001b[39mas\u001b[39;00m \u001b[39mjtu\u001b[39;00m\n\u001b[1;32m      8\u001b[0m \u001b[39mimport\u001b[39;00m \u001b[39mnumpy\u001b[39;00m \u001b[39mas\u001b[39;00m \u001b[39mnp\u001b[39;00m\n\u001b[0;32m----> 9\u001b[0m \u001b[39mfrom\u001b[39;00m \u001b[39macme\u001b[39;00m\u001b[39m.\u001b[39;00m\u001b[39mjax\u001b[39;00m\u001b[39m.\u001b[39;00m\u001b[39mutils\u001b[39;00m \u001b[39mimport\u001b[39;00m add_batch_dim, batch_concat, ones_like, zeros_like\n\u001b[1;32m     10\u001b[0m \u001b[39mfrom\u001b[39;00m \u001b[39mequinox\u001b[39;00m \u001b[39mimport\u001b[39;00m tree_equal\n\u001b[1;32m     12\u001b[0m tree_zeros_like \u001b[39m=\u001b[39m zeros_like\n",
      "File \u001b[0;32m~/miniconda3/envs/aibe/lib/python3.9/site-packages/acme/__init__.py:35\u001b[0m, in \u001b[0;36m<module>\u001b[0;34m\u001b[0m\n\u001b[1;32m     32\u001b[0m \u001b[39mfrom\u001b[39;00m \u001b[39macme\u001b[39;00m\u001b[39m.\u001b[39;00m\u001b[39mcore\u001b[39;00m \u001b[39mimport\u001b[39;00m Worker\n\u001b[1;32m     34\u001b[0m \u001b[39m# Expose the environment loop.\u001b[39;00m\n\u001b[0;32m---> 35\u001b[0m \u001b[39mfrom\u001b[39;00m \u001b[39macme\u001b[39;00m\u001b[39m.\u001b[39;00m\u001b[39menvironment_loop\u001b[39;00m \u001b[39mimport\u001b[39;00m EnvironmentLoop\n\u001b[1;32m     37\u001b[0m \u001b[39mfrom\u001b[39;00m \u001b[39macme\u001b[39;00m\u001b[39m.\u001b[39;00m\u001b[39mspecs\u001b[39;00m \u001b[39mimport\u001b[39;00m make_environment_spec\n",
      "File \u001b[0;32m~/miniconda3/envs/aibe/lib/python3.9/site-packages/acme/environment_loop.py:26\u001b[0m, in \u001b[0;36m<module>\u001b[0;34m\u001b[0m\n\u001b[1;32m     24\u001b[0m \u001b[39mfrom\u001b[39;00m \u001b[39macme\u001b[39;00m\u001b[39m.\u001b[39;00m\u001b[39mutils\u001b[39;00m \u001b[39mimport\u001b[39;00m loggers\n\u001b[1;32m     25\u001b[0m \u001b[39mfrom\u001b[39;00m \u001b[39macme\u001b[39;00m\u001b[39m.\u001b[39;00m\u001b[39mutils\u001b[39;00m \u001b[39mimport\u001b[39;00m observers \u001b[39mas\u001b[39;00m observers_lib\n\u001b[0;32m---> 26\u001b[0m \u001b[39mfrom\u001b[39;00m \u001b[39macme\u001b[39;00m\u001b[39m.\u001b[39;00m\u001b[39mutils\u001b[39;00m \u001b[39mimport\u001b[39;00m signals\n\u001b[1;32m     28\u001b[0m \u001b[39mimport\u001b[39;00m \u001b[39mdm_env\u001b[39;00m\n\u001b[1;32m     29\u001b[0m \u001b[39mfrom\u001b[39;00m \u001b[39mdm_env\u001b[39;00m \u001b[39mimport\u001b[39;00m specs\n",
      "File \u001b[0;32m~/miniconda3/envs/aibe/lib/python3.9/site-packages/acme/utils/signals.py:22\u001b[0m, in \u001b[0;36m<module>\u001b[0;34m\u001b[0m\n\u001b[1;32m     19\u001b[0m \u001b[39mimport\u001b[39;00m \u001b[39mthreading\u001b[39;00m\n\u001b[1;32m     20\u001b[0m \u001b[39mfrom\u001b[39;00m \u001b[39mtyping\u001b[39;00m \u001b[39mimport\u001b[39;00m Any, Callable, Optional\n\u001b[0;32m---> 22\u001b[0m \u001b[39mimport\u001b[39;00m \u001b[39mlaunchpad\u001b[39;00m\n\u001b[1;32m     24\u001b[0m _Handler \u001b[39m=\u001b[39m Callable[[], Any]\n\u001b[1;32m     27\u001b[0m \u001b[39m@contextlib\u001b[39m\u001b[39m.\u001b[39mcontextmanager\n\u001b[1;32m     28\u001b[0m \u001b[39mdef\u001b[39;00m \u001b[39mruntime_terminator\u001b[39m(callback: Optional[_Handler] \u001b[39m=\u001b[39m \u001b[39mNone\u001b[39;00m):\n",
      "File \u001b[0;32m~/miniconda3/envs/aibe/lib/python3.9/site-packages/launchpad/__init__.py:36\u001b[0m, in \u001b[0;36m<module>\u001b[0;34m\u001b[0m\n\u001b[1;32m     33\u001b[0m \u001b[39mfrom\u001b[39;00m \u001b[39mlaunchpad\u001b[39;00m\u001b[39m.\u001b[39;00m\u001b[39mlaunch\u001b[39;00m\u001b[39m.\u001b[39;00m\u001b[39mlaunch\u001b[39;00m \u001b[39mimport\u001b[39;00m launch\n\u001b[1;32m     35\u001b[0m \u001b[39m# Nodes\u001b[39;00m\n\u001b[0;32m---> 36\u001b[0m \u001b[39mfrom\u001b[39;00m \u001b[39mlaunchpad\u001b[39;00m\u001b[39m.\u001b[39;00m\u001b[39mnodes\u001b[39;00m\u001b[39m.\u001b[39;00m\u001b[39mcourier\u001b[39;00m\u001b[39m.\u001b[39;00m\u001b[39mnode\u001b[39;00m \u001b[39mimport\u001b[39;00m CourierHandle\n\u001b[1;32m     37\u001b[0m \u001b[39mfrom\u001b[39;00m \u001b[39mlaunchpad\u001b[39;00m\u001b[39m.\u001b[39;00m\u001b[39mnodes\u001b[39;00m\u001b[39m.\u001b[39;00m\u001b[39mcourier\u001b[39;00m\u001b[39m.\u001b[39;00m\u001b[39mnode\u001b[39;00m \u001b[39mimport\u001b[39;00m CourierNode\n\u001b[1;32m     38\u001b[0m \u001b[39mfrom\u001b[39;00m \u001b[39mlaunchpad\u001b[39;00m\u001b[39m.\u001b[39;00m\u001b[39mnodes\u001b[39;00m\u001b[39m.\u001b[39;00m\u001b[39mcourier\u001b[39;00m\u001b[39m.\u001b[39;00m\u001b[39mnode\u001b[39;00m \u001b[39mimport\u001b[39;00m CourierClient\n",
      "File \u001b[0;32m~/miniconda3/envs/aibe/lib/python3.9/site-packages/launchpad/nodes/courier/node.py:21\u001b[0m, in \u001b[0;36m<module>\u001b[0;34m\u001b[0m\n\u001b[1;32m     18\u001b[0m \u001b[39mfrom\u001b[39;00m \u001b[39mtyping\u001b[39;00m \u001b[39mimport\u001b[39;00m Callable, Generic, TypeVar\n\u001b[1;32m     20\u001b[0m \u001b[39mfrom\u001b[39;00m \u001b[39mabsl\u001b[39;00m \u001b[39mimport\u001b[39;00m logging\n\u001b[0;32m---> 21\u001b[0m \u001b[39mimport\u001b[39;00m \u001b[39mcourier\u001b[39;00m\n\u001b[1;32m     22\u001b[0m \u001b[39mfrom\u001b[39;00m \u001b[39mlaunchpad\u001b[39;00m \u001b[39mimport\u001b[39;00m address \u001b[39mas\u001b[39;00m lp_address\n\u001b[1;32m     23\u001b[0m \u001b[39mfrom\u001b[39;00m \u001b[39mlaunchpad\u001b[39;00m\u001b[39m.\u001b[39;00m\u001b[39mlaunch\u001b[39;00m \u001b[39mimport\u001b[39;00m worker_manager\n",
      "File \u001b[0;32m~/miniconda3/envs/aibe/lib/python3.9/site-packages/courier/__init__.py:26\u001b[0m, in \u001b[0;36m<module>\u001b[0;34m\u001b[0m\n\u001b[1;32m     11\u001b[0m \u001b[39m# Copyright 2020 DeepMind Technologies Limited. All rights reserved.\u001b[39;00m\n\u001b[1;32m     12\u001b[0m \u001b[39m#\u001b[39;00m\n\u001b[1;32m     13\u001b[0m \u001b[39m# Licensed under the Apache License, Version 2.0 (the \"License\");\u001b[39;00m\n\u001b[0;32m   (...)\u001b[0m\n\u001b[1;32m     22\u001b[0m \u001b[39m# See the License for the specific language governing permissions and\u001b[39;00m\n\u001b[1;32m     23\u001b[0m \u001b[39m# limitations under the License.\u001b[39;00m\n\u001b[1;32m     25\u001b[0m \u001b[39m\"\"\"Courier module.\"\"\"\u001b[39;00m\n\u001b[0;32m---> 26\u001b[0m \u001b[39mfrom\u001b[39;00m \u001b[39mcourier\u001b[39;00m\u001b[39m.\u001b[39;00m\u001b[39mpython\u001b[39;00m\u001b[39m.\u001b[39;00m\u001b[39mclient\u001b[39;00m \u001b[39mimport\u001b[39;00m Client  \u001b[39m# pytype: disable=import-error\u001b[39;00m\n\u001b[1;32m     27\u001b[0m \u001b[39mfrom\u001b[39;00m \u001b[39mcourier\u001b[39;00m\u001b[39m.\u001b[39;00m\u001b[39mpython\u001b[39;00m\u001b[39m.\u001b[39;00m\u001b[39mclient\u001b[39;00m \u001b[39mimport\u001b[39;00m list_methods  \u001b[39m# pytype: disable=import-error\u001b[39;00m\n\u001b[1;32m     28\u001b[0m \u001b[39mfrom\u001b[39;00m \u001b[39mcourier\u001b[39;00m\u001b[39m.\u001b[39;00m\u001b[39mpython\u001b[39;00m\u001b[39m.\u001b[39;00m\u001b[39mpy_server\u001b[39;00m \u001b[39mimport\u001b[39;00m Server\n",
      "File \u001b[0;32m~/miniconda3/envs/aibe/lib/python3.9/site-packages/courier/python/client.py:30\u001b[0m, in \u001b[0;36m<module>\u001b[0;34m\u001b[0m\n\u001b[1;32m     27\u001b[0m \u001b[39mimport\u001b[39;00m \u001b[39mdatetime\u001b[39;00m\n\u001b[1;32m     28\u001b[0m \u001b[39mfrom\u001b[39;00m \u001b[39mtyping\u001b[39;00m \u001b[39mimport\u001b[39;00m List, Optional, Union\n\u001b[0;32m---> 30\u001b[0m \u001b[39mfrom\u001b[39;00m \u001b[39mcourier\u001b[39;00m\u001b[39m.\u001b[39;00m\u001b[39mpython\u001b[39;00m \u001b[39mimport\u001b[39;00m py_client\n\u001b[1;32m     31\u001b[0m \u001b[39m# Numpy import needed for proper operation of ../serialization/py_serialize.cc\u001b[39;00m\n\u001b[1;32m     32\u001b[0m \u001b[39mimport\u001b[39;00m \u001b[39mnumpy\u001b[39;00m  \n",
      "\u001b[0;31mImportError\u001b[0m: libpython3.9.so.1.0: cannot open shared object file: No such file or directory"
     ]
    }
   ],
   "source": [
    "from dm_control.rl import control\n",
    "from dm_control import mujoco\n",
    "from collections import OrderedDict\n",
    "import numpy as np \n",
    "from cc.env.envs.common import read_model, ASSETS \n",
    "from cc.utils.sample_from_spec import _spec_from_observation\n",
    "from cc.env import make_env\n",
    "from cc.env.sample_envs import TWO_SEGMENT_V1"
   ]
  },
  {
   "cell_type": "markdown",
   "metadata": {},
   "source": [
    "----\n",
    "Let's take a closer look at the content of the .py-file.\n",
    "\n",
    "It contains to objects\n",
    "- a `mujoco.Physics` object\n",
    "- a `control.Task`"
   ]
  },
  {
   "cell_type": "markdown",
   "metadata": {},
   "source": [
    "The `mujoco.Physics` object gives us a way to interact with the Mujoco simulation from Python."
   ]
  },
  {
   "cell_type": "code",
   "execution_count": 2,
   "metadata": {
    "execution": {
     "iopub.execute_input": "2022-12-27T20:08:15.962263Z",
     "iopub.status.busy": "2022-12-27T20:08:15.961162Z",
     "iopub.status.idle": "2022-12-27T20:08:16.083829Z",
     "shell.execute_reply": "2022-12-27T20:08:16.083121Z"
    }
   },
   "outputs": [
    {
     "data": {
      "text/plain": [
       "<__main__.SegmentPhysics at 0x7f9f8814f160>"
      ]
     },
     "execution_count": 2,
     "metadata": {},
     "output_type": "execute_result"
    }
   ],
   "source": [
    "class SegmentPhysics(mujoco.Physics):\n",
    "\n",
    "    def xpos_of_segment_end(self):\n",
    "        return self.named.data.xpos[\"segment_end\", \"x\"]\n",
    "\n",
    "    def set_torque_of_cart(self, u):\n",
    "        u = np.arctan(u)\n",
    "        self.set_control(u)\n",
    "\n",
    "\n",
    "def load_physics():\n",
    "    xml_path = \"two_segments_v1.xml\"\n",
    "    return SegmentPhysics.from_xml_string(read_model(xml_path), assets=ASSETS)\n",
    "\n",
    "load_physics()"
   ]
  },
  {
   "cell_type": "markdown",
   "metadata": {},
   "source": [
    "The `control.Task` precisely defines when we can and and when we will interact with the `mujoco.Physics`-object."
   ]
  },
  {
   "cell_type": "code",
   "execution_count": 3,
   "metadata": {
    "execution": {
     "iopub.execute_input": "2022-12-27T20:08:16.107664Z",
     "iopub.status.busy": "2022-12-27T20:08:16.107492Z",
     "iopub.status.idle": "2022-12-27T20:08:16.112886Z",
     "shell.execute_reply": "2022-12-27T20:08:16.112542Z"
    }
   },
   "outputs": [
    {
     "data": {
      "text/plain": [
       "<__main__.SegmentTask at 0x7f9f2e67c2e0>"
      ]
     },
     "execution_count": 3,
     "metadata": {},
     "output_type": "execute_result"
    }
   ],
   "source": [
    "class SegmentTask(control.Task):\n",
    "\n",
    "    def __init__(self, random: int = 1):\n",
    "        # seed is unused \n",
    "        del random \n",
    "        super().__init__()\n",
    "        \n",
    "    def initialize_episode(self, physics):\n",
    "        pass \n",
    "\n",
    "    def before_step(self, action, physics: SegmentPhysics):\n",
    "        physics.set_torque_of_cart(action)\n",
    "\n",
    "    def after_step(self, physics):\n",
    "        pass \n",
    "\n",
    "    def action_spec(self, physics):\n",
    "        return mujoco.action_spec(physics)\n",
    "\n",
    "    def get_observation(self, physics) -> OrderedDict:\n",
    "        obs = OrderedDict()\n",
    "        obs[\"xpos_of_segment_end\"] = np.atleast_1d(physics.xpos_of_segment_end())\n",
    "        return obs \n",
    "\n",
    "    def get_reward(self, physics):\n",
    "        return np.array(0.0)\n",
    "\n",
    "    def observation_spec(self, physics):\n",
    "        return _spec_from_observation(self.get_observation(physics))\n",
    "\n",
    "SegmentTask()"
   ]
  },
  {
   "cell_type": "markdown",
   "metadata": {},
   "source": [
    "With these two components we can register a new Environment at `cc.env.register`\n",
    "\n",
    "Here, this has already been done and we can simply load it using its string-identifier."
   ]
  },
  {
   "cell_type": "code",
   "execution_count": 4,
   "metadata": {
    "execution": {
     "iopub.execute_input": "2022-12-27T20:08:16.114613Z",
     "iopub.status.busy": "2022-12-27T20:08:16.114491Z",
     "iopub.status.idle": "2022-12-27T20:08:16.216627Z",
     "shell.execute_reply": "2022-12-27T20:08:16.216157Z"
    }
   },
   "outputs": [],
   "source": [
    "env = make_env(TWO_SEGMENT_V1, random=1)"
   ]
  },
  {
   "cell_type": "code",
   "execution_count": 5,
   "metadata": {
    "execution": {
     "iopub.execute_input": "2022-12-27T20:08:16.218682Z",
     "iopub.status.busy": "2022-12-27T20:08:16.218560Z",
     "iopub.status.idle": "2022-12-27T20:08:16.222735Z",
     "shell.execute_reply": "2022-12-27T20:08:16.222281Z"
    }
   },
   "outputs": [
    {
     "data": {
      "text/plain": [
       "TimeStep(step_type=<StepType.FIRST: 0>, reward=None, discount=None, observation=OrderedDict([('xpos_of_segment_end', array([2.5717583e-16], dtype=float32))]))"
      ]
     },
     "execution_count": 5,
     "metadata": {},
     "output_type": "execute_result"
    }
   ],
   "source": [
    "action=np.array([0.2])\n",
    "env.step(action)"
   ]
  },
  {
   "cell_type": "code",
   "execution_count": 6,
   "metadata": {
    "execution": {
     "iopub.execute_input": "2022-12-27T20:08:16.224480Z",
     "iopub.status.busy": "2022-12-27T20:08:16.224210Z",
     "iopub.status.idle": "2022-12-27T20:08:16.227261Z",
     "shell.execute_reply": "2022-12-27T20:08:16.226954Z"
    }
   },
   "outputs": [
    {
     "data": {
      "text/plain": [
       "TimeStep(step_type=<StepType.MID: 1>, reward=array(0., dtype=float32), discount=array(1., dtype=float32), observation=OrderedDict([('xpos_of_segment_end', array([4.913601e-06], dtype=float32))]))"
      ]
     },
     "execution_count": 6,
     "metadata": {},
     "output_type": "execute_result"
    }
   ],
   "source": [
    "env.step(action)"
   ]
  },
  {
   "cell_type": "markdown",
   "metadata": {},
   "source": [
    "Without going into any details: Let's just take a look at some randomly acting controller in this environment.\n",
    "\n",
    "Press the backspace key to reset the environment."
   ]
  },
  {
   "cell_type": "code",
   "execution_count": 7,
   "metadata": {
    "execution": {
     "iopub.execute_input": "2022-12-27T20:08:16.228722Z",
     "iopub.status.busy": "2022-12-27T20:08:16.228537Z",
     "iopub.status.idle": "2022-12-27T20:08:16.707435Z",
     "shell.execute_reply": "2022-12-27T20:08:16.706978Z"
    }
   },
   "outputs": [
    {
     "name": "stderr",
     "output_type": "stream",
     "text": [
      "WARNING:jax._src.lib.xla_bridge:No GPU/TPU found, falling back to CPU. (Set TF_CPP_MIN_LOG_LEVEL=0 and rerun for more info.)\n"
     ]
    },
    {
     "name": "stderr",
     "output_type": "stream",
     "text": [
      "/home/simon/miniforge3/envs/chain_control/lib/python3.9/site-packages/tqdm/auto.py:22: TqdmWarning: IProgress not found. Please update jupyter and ipywidgets. See https://ipywidgets.readthedocs.io/en/stable/user_install.html\n",
      "  from .autonotebook import tqdm as notebook_tqdm\n"
     ]
    }
   ],
   "source": [
    "from cc.env.collect import RandomActor\n",
    "from cc.utils.visual.viewer import launch_viewer\n",
    "\n",
    "actor = RandomActor(env.action_spec(), reset_key=True)\n",
    "\n",
    "# uncomment to launch a viewer\n",
    "#launch_viewer(env, actor)"
   ]
  },
  {
   "cell_type": "code",
   "execution_count": null,
   "metadata": {},
   "outputs": [],
   "source": []
  }
 ],
 "metadata": {
  "kernelspec": {
   "display_name": "aibe",
   "language": "python",
   "name": "python3"
  },
  "language_info": {
   "codemirror_mode": {
    "name": "ipython",
    "version": 3
   },
   "file_extension": ".py",
   "mimetype": "text/x-python",
   "name": "python",
   "nbconvert_exporter": "python",
   "pygments_lexer": "ipython3",
   "version": "3.9.13"
  },
  "vscode": {
   "interpreter": {
    "hash": "8ba084acad79e0f91d5a5588d305de266bf23ec298932ec3a210886ceb659ff1"
   }
  }
 },
 "nbformat": 4,
 "nbformat_minor": 2
}
