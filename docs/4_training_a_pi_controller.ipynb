{
 "cells": [
  {
   "cell_type": "code",
   "execution_count": 6,
   "metadata": {},
   "outputs": [],
   "source": [
    "from cc.collect import collect_reference_source, collect_exhaust_source, collect \n",
    "from cc import save, load \n",
    "from cc.controller import create_pi_controller, LinearController, LinearControllerOptions\n",
    "from cc.env.wrappers import AddReferenceObservationWrapper, RecordVideoWrapper\n",
    "import matplotlib.pyplot as plt \n",
    "from cc.env import make_env\n",
    "from cc.train import TrainingOptionsController, train_controller\n",
    "import optax "
   ]
  },
  {
   "cell_type": "code",
   "execution_count": 7,
   "metadata": {},
   "outputs": [],
   "source": [
    "from cc.utils.utils import generate_ts\n",
    "\n",
    "\n",
    "time_limit = 10.0\n",
    "control_timestep = 0.01 \n",
    "ts = generate_ts(time_limit, control_timestep)\n",
    "\n",
    "env = make_env(\"two_segments_v1\", random=1, time_limit=time_limit, control_timestep=control_timestep)"
   ]
  },
  {
   "cell_type": "code",
   "execution_count": 9,
   "metadata": {},
   "outputs": [],
   "source": [
    "# create a reference source with two *feasible* (=physically possible) trajectories\n",
    "source = collect_reference_source(env, seeds=[20,21], constant_after=True, constant_after_T=3.0)"
   ]
  },
  {
   "cell_type": "code",
   "execution_count": 10,
   "metadata": {},
   "outputs": [],
   "source": [
    "p_gain = 0.01\n",
    "i_gain = 0.0 \n",
    "\n",
    "options = create_pi_controller(p_gain, i_gain, delta_t=control_timestep)"
   ]
  },
  {
   "cell_type": "code",
   "execution_count": 11,
   "metadata": {},
   "outputs": [],
   "source": [
    "controller = LinearController(options)"
   ]
  },
  {
   "cell_type": "code",
   "execution_count": 12,
   "metadata": {},
   "outputs": [
    {
     "data": {
      "text/plain": [
       "LinearController(\n",
       "  rhs=LinearRHS(\n",
       "    params=LinearRHS_Params(\n",
       "      A=NotAParameter(_=f32[2,2]),\n",
       "      B=NotAParameter(_=f32[2,1]),\n",
       "      C=Parameter(_=f32[1,2]),\n",
       "      D=NotAParameter(_=f32[1,1])\n",
       "    ),\n",
       "    _init_state=NotAParameter(_=f32[2]),\n",
       "    method='no-integrate'\n",
       "  ),\n",
       "  state=NotAParameter(_=f32[2]),\n",
       "  input_size=1,\n",
       "  output_size=1\n",
       ")"
      ]
     },
     "execution_count": 12,
     "metadata": {},
     "output_type": "execute_result"
    }
   ],
   "source": [
    "controller"
   ]
  },
  {
   "cell_type": "code",
   "execution_count": 13,
   "metadata": {},
   "outputs": [],
   "source": [
    "training_options = TrainingOptionsController(\n",
    "    optax.adam(3e-3), 0.0, 500, 1, models=[model]\n",
    ")"
   ]
  },
  {
   "cell_type": "code",
   "execution_count": 14,
   "metadata": {},
   "outputs": [
    {
     "name": "stderr",
     "output_type": "stream",
     "text": [
      "  0%|                                                                                                                                                                                                                                                                  | 0/500 [00:00<?, ?it/s]"
     ]
    },
    {
     "name": "stdout",
     "output_type": "stream",
     "text": [
      "WARNING: Object <class 'cc.model.model.NonlinearModel'> is being traced. \n",
      "            If this message is display continuously then you probably forgot to compile the model or controller. \n",
      "            This can be fixed by calling `*model/controller* = equniox.filter_jit(*model/controller*).\n",
      "            \n",
      "WARNING: Object <class 'cc.controller.controller.LinearController'> is being traced. \n",
      "            If this message is display continuously then you probably forgot to compile the model or controller. \n",
      "            This can be fixed by calling `*model/controller* = equniox.filter_jit(*model/controller*).\n",
      "            \n",
      "WARNING: Object <class 'cc.model.model.NonlinearModel'> is being traced. \n",
      "            If this message is display continuously then you probably forgot to compile the model or controller. \n",
      "            This can be fixed by calling `*model/controller* = equniox.filter_jit(*model/controller*).\n",
      "            \n"
     ]
    },
    {
     "name": "stderr",
     "output_type": "stream",
     "text": [
      "Trainings-Loss:    39.7957 | ParamsRegu:     0.0001:   0%|▍                                                                                                                                                                                                    | 1/500 [00:00<06:44,  1.23it/s]"
     ]
    },
    {
     "name": "stdout",
     "output_type": "stream",
     "text": [
      "WARNING: Object <class 'cc.model.model.NonlinearModel'> is being traced. \n",
      "            If this message is display continuously then you probably forgot to compile the model or controller. \n",
      "            This can be fixed by calling `*model/controller* = equniox.filter_jit(*model/controller*).\n",
      "            \n",
      "WARNING: Object <class 'cc.controller.controller.LinearController'> is being traced. \n",
      "            If this message is display continuously then you probably forgot to compile the model or controller. \n",
      "            This can be fixed by calling `*model/controller* = equniox.filter_jit(*model/controller*).\n",
      "            \n",
      "WARNING: Object <class 'cc.model.model.NonlinearModel'> is being traced. \n",
      "            If this message is display continuously then you probably forgot to compile the model or controller. \n",
      "            This can be fixed by calling `*model/controller* = equniox.filter_jit(*model/controller*).\n",
      "            \n"
     ]
    },
    {
     "name": "stderr",
     "output_type": "stream",
     "text": [
      "Trainings-Loss:     9.5105 | ParamsRegu:     0.0039: 100%|███████████████████████████████████████████████████████████████████████████████████████████████████████████████████████████████████████████████████████████████████████████████████████████████████| 500/500 [00:06<00:00, 72.47it/s]\n"
     ]
    }
   ],
   "source": [
    "controller, losses = train_controller(controller, source, training_options)"
   ]
  },
  {
   "cell_type": "code",
   "execution_count": 15,
   "metadata": {},
   "outputs": [
    {
     "data": {
      "text/plain": [
       "DeviceArray([[ 0.08696828, -0.01427839]], dtype=float32)"
      ]
     },
     "execution_count": 15,
     "metadata": {},
     "output_type": "execute_result"
    }
   ],
   "source": [
    "# final gain values\n",
    "controller.rhs.params.C()"
   ]
  },
  {
   "cell_type": "markdown",
   "metadata": {},
   "source": [
    "### So how well does our controller now perform in the actual environment? :D "
   ]
  },
  {
   "cell_type": "code",
   "execution_count": 16,
   "metadata": {},
   "outputs": [],
   "source": [
    "env_w_source = AddReferenceObservationWrapper(env, source)"
   ]
  },
  {
   "cell_type": "code",
   "execution_count": 17,
   "metadata": {},
   "outputs": [
    {
     "name": "stdout",
     "output_type": "stream",
     "text": [
      "WARNING: Object <class 'cc.controller.controller.LinearController'> is being traced. \n",
      "            If this message is display continuously then you probably forgot to compile the model or controller. \n",
      "            This can be fixed by calling `*model/controller* = equniox.filter_jit(*model/controller*).\n",
      "            \n"
     ]
    }
   ],
   "source": [
    "iterator = collect(env=env_w_source, controller=controller, ts=ts)\n",
    "replay_sample = next(iterator)"
   ]
  },
  {
   "cell_type": "code",
   "execution_count": 18,
   "metadata": {},
   "outputs": [
    {
     "data": {
      "text/plain": [
       "OrderedDict([('obs',\n",
       "              OrderedDict([('xpos_of_segment_end',\n",
       "                            array([[[2.5717583e-16],\n",
       "                                    [2.5717583e-16],\n",
       "                                    [2.5717583e-16],\n",
       "                                    ...,\n",
       "                                    [9.2908554e+00],\n",
       "                                    [9.2533426e+00],\n",
       "                                    [9.2159061e+00]]], dtype=float32))])),\n",
       "             ('ref',\n",
       "              OrderedDict([('xpos_of_segment_end',\n",
       "                            array([[[2.5717583e-16],\n",
       "                                    [2.4853820e-05],\n",
       "                                    [5.6197499e-05],\n",
       "                                    ...,\n",
       "                                    [1.1927854e+01],\n",
       "                                    [1.1927854e+01],\n",
       "                                    [1.1927854e+01]]], dtype=float32))]))])"
      ]
     },
     "execution_count": 18,
     "metadata": {},
     "output_type": "execute_result"
    }
   ],
   "source": [
    "replay_sample.obs"
   ]
  },
  {
   "cell_type": "code",
   "execution_count": 19,
   "metadata": {},
   "outputs": [
    {
     "data": {
      "text/plain": [
       "<matplotlib.legend.Legend at 0x7f747c348580>"
      ]
     },
     "execution_count": 19,
     "metadata": {},
     "output_type": "execute_result"
    },
    {
     "data": {
      "image/png": "[encoded data removed]",
      "text/plain": [
       "<Figure size 432x288 with 1 Axes>"
      ]
     },
     "metadata": {
      "needs_background": "light"
     },
     "output_type": "display_data"
    }
   ],
   "source": [
    "\n",
    "plt.plot(replay_sample.obs[\"obs\"][\"xpos_of_segment_end\"][0], label=\"observation\")\n",
    "plt.plot(replay_sample.obs[\"ref\"][\"xpos_of_segment_end\"][0], label=\"reference\")\n",
    "plt.legend()"
   ]
  },
  {
   "cell_type": "code",
   "execution_count": 20,
   "metadata": {},
   "outputs": [],
   "source": [
    "source.change_reference_of_actor(1)\n",
    "iterator = collect(env=env_w_source, controller=controller, ts=ts)\n",
    "replay_sample = next(iterator)"
   ]
  },
  {
   "cell_type": "code",
   "execution_count": 21,
   "metadata": {},
   "outputs": [
    {
     "data": {
      "text/plain": [
       "<matplotlib.legend.Legend at 0x7f747c339610>"
      ]
     },
     "execution_count": 21,
     "metadata": {},
     "output_type": "execute_result"
    },
    {
     "data": {
      "image/png": "[encoded data removed]",
      "text/plain": [
       "<Figure size 432x288 with 1 Axes>"
      ]
     },
     "metadata": {
      "needs_background": "light"
     },
     "output_type": "display_data"
    }
   ],
   "source": [
    "\n",
    "plt.plot(replay_sample.obs[\"obs\"][\"xpos_of_segment_end\"][0], label=\"observation\")\n",
    "plt.plot(replay_sample.obs[\"ref\"][\"xpos_of_segment_end\"][0], label=\"reference\")\n",
    "plt.legend()"
   ]
  },
  {
   "cell_type": "markdown",
   "metadata": {},
   "source": [
    "Want a video?"
   ]
  },
  {
   "cell_type": "code",
   "execution_count": 22,
   "metadata": {},
   "outputs": [
    {
     "name": "stderr",
     "output_type": "stream",
     "text": [
      "libGL error: MESA-LOADER: failed to open swrast: /usr/lib/dri/swrast_dri.so: cannot open shared object file: No such file or directory (search paths /usr/lib/x86_64-linux-gnu/dri:\\$${ORIGIN}/dri:/usr/lib/dri, suffix _dri)\n",
      "libGL error: failed to load driver: swrast\n",
      "/home/tobi/miniconda3/envs/aibe/lib/python3.9/site-packages/glfw/__init__.py:912: GLFWError: (65543) b'GLX: Failed to create context: BadValue (integer parameter out of range for operation)'\n",
      "  warnings.warn(message, GLFWError)\n"
     ]
    },
    {
     "ename": "FatalError",
     "evalue": "gladLoadGL error",
     "output_type": "error",
     "traceback": [
      "\u001b[0;31m---------------------------------------------------------------------------\u001b[0m",
      "\u001b[0;31mFatalError\u001b[0m                                Traceback (most recent call last)",
      "\u001b[1;32m/home/tobi/uni/aibe/chain_control/docs/4_training_a_pi_controller.ipynb Cell 19\u001b[0m in \u001b[0;36m<cell line: 8>\u001b[0;34m()\u001b[0m\n\u001b[1;32m      <a href='vscode-notebook-cell://wsl%2Bubuntu/home/tobi/uni/aibe/chain_control/docs/4_training_a_pi_controller.ipynb#X24sdnNjb2RlLXJlbW90ZQ%3D%3D?line=4'>5</a>\u001b[0m \u001b[39m# cleanup_imgs is kind of dangerous, check out the source code before you run this please\u001b[39;00m\n\u001b[1;32m      <a href='vscode-notebook-cell://wsl%2Bubuntu/home/tobi/uni/aibe/chain_control/docs/4_training_a_pi_controller.ipynb#X24sdnNjb2RlLXJlbW90ZQ%3D%3D?line=5'>6</a>\u001b[0m env_w_video \u001b[39m=\u001b[39m RecordVideoWrapper(env_w_source, width\u001b[39m=\u001b[39m\u001b[39m1280\u001b[39m, height\u001b[39m=\u001b[39m\u001b[39m720\u001b[39m, cleanup_imgs\u001b[39m=\u001b[39m\u001b[39mFalse\u001b[39;00m)\n\u001b[0;32m----> <a href='vscode-notebook-cell://wsl%2Bubuntu/home/tobi/uni/aibe/chain_control/docs/4_training_a_pi_controller.ipynb#X24sdnNjb2RlLXJlbW90ZQ%3D%3D?line=7'>8</a>\u001b[0m iterator \u001b[39m=\u001b[39m collect(env\u001b[39m=\u001b[39;49menv_w_video, controller\u001b[39m=\u001b[39;49mcontroller, ts\u001b[39m=\u001b[39;49mts)\n",
      "File \u001b[0;32m~/uni/aibe/chain_control/cc/collect/collect.py:113\u001b[0m, in \u001b[0;36mcollect\u001b[0;34m(env, controller, ts)\u001b[0m\n\u001b[1;32m    111\u001b[0m actor \u001b[39m=\u001b[39m PolicyActor(policy\u001b[39m=\u001b[39mcontroller, action_spec\u001b[39m=\u001b[39menv\u001b[39m.\u001b[39maction_spec(), adder\u001b[39m=\u001b[39madder)\n\u001b[1;32m    112\u001b[0m loop \u001b[39m=\u001b[39m EnvironmentLoop(env, actor)\n\u001b[0;32m--> 113\u001b[0m loop\u001b[39m.\u001b[39;49mrun_episode()\n\u001b[1;32m    114\u001b[0m \u001b[39mreturn\u001b[39;00m iterator\n",
      "File \u001b[0;32m~/miniconda3/envs/aibe/lib/python3.9/site-packages/acme/environment_loop.py:106\u001b[0m, in \u001b[0;36mEnvironmentLoop.run_episode\u001b[0;34m(self)\u001b[0m\n\u001b[1;32m    103\u001b[0m \u001b[39mwhile\u001b[39;00m \u001b[39mnot\u001b[39;00m timestep\u001b[39m.\u001b[39mlast():\n\u001b[1;32m    104\u001b[0m   \u001b[39m# Generate an action from the agent's policy and step the environment.\u001b[39;00m\n\u001b[1;32m    105\u001b[0m   action \u001b[39m=\u001b[39m \u001b[39mself\u001b[39m\u001b[39m.\u001b[39m_actor\u001b[39m.\u001b[39mselect_action(timestep\u001b[39m.\u001b[39mobservation)\n\u001b[0;32m--> 106\u001b[0m   timestep \u001b[39m=\u001b[39m \u001b[39mself\u001b[39;49m\u001b[39m.\u001b[39;49m_environment\u001b[39m.\u001b[39;49mstep(action)\n\u001b[1;32m    108\u001b[0m   \u001b[39m# Have the agent observe the timestep and let the actor update itself.\u001b[39;00m\n\u001b[1;32m    109\u001b[0m   \u001b[39mself\u001b[39m\u001b[39m.\u001b[39m_actor\u001b[39m.\u001b[39mobserve(action, next_timestep\u001b[39m=\u001b[39mtimestep)\n",
      "File \u001b[0;32m~/uni/aibe/chain_control/cc/env/wrappers/video_recorder.py:59\u001b[0m, in \u001b[0;36mRecordVideoWrapper.step\u001b[0;34m(self, action)\u001b[0m\n\u001b[1;32m     57\u001b[0m         frame \u001b[39m=\u001b[39m \u001b[39mself\u001b[39m\u001b[39m.\u001b[39m_environment\u001b[39m.\u001b[39mphysics\u001b[39m.\u001b[39mrender(camera_id\u001b[39m=\u001b[39m\u001b[39mself\u001b[39m\u001b[39m.\u001b[39m_camera_id,width\u001b[39m=\u001b[39m\u001b[39mself\u001b[39m\u001b[39m.\u001b[39m_width, height\u001b[39m=\u001b[39m\u001b[39mself\u001b[39m\u001b[39m.\u001b[39m_height)\n\u001b[1;32m     58\u001b[0m     \u001b[39melse\u001b[39;00m:\n\u001b[0;32m---> 59\u001b[0m         frame \u001b[39m=\u001b[39m \u001b[39mself\u001b[39;49m\u001b[39m.\u001b[39;49m_environment\u001b[39m.\u001b[39;49mphysics\u001b[39m.\u001b[39;49mrender(width\u001b[39m=\u001b[39;49m\u001b[39mself\u001b[39;49m\u001b[39m.\u001b[39;49m_width, height\u001b[39m=\u001b[39;49m\u001b[39mself\u001b[39;49m\u001b[39m.\u001b[39;49m_height)\n\u001b[1;32m     60\u001b[0m     \u001b[39mself\u001b[39m\u001b[39m.\u001b[39m_frames\u001b[39m.\u001b[39mappend(frame)\n\u001b[1;32m     62\u001b[0m ts \u001b[39m=\u001b[39m \u001b[39msuper\u001b[39m()\u001b[39m.\u001b[39mstep(action)\n",
      "File \u001b[0;32m~/miniconda3/envs/aibe/lib/python3.9/site-packages/dm_control/mujoco/engine.py:216\u001b[0m, in \u001b[0;36mPhysics.render\u001b[0;34m(self, height, width, camera_id, overlays, depth, segmentation, scene_option, render_flag_overrides, scene_callback)\u001b[0m\n\u001b[1;32m    171\u001b[0m \u001b[39mdef\u001b[39;00m \u001b[39mrender\u001b[39m(\n\u001b[1;32m    172\u001b[0m     \u001b[39mself\u001b[39m,\n\u001b[1;32m    173\u001b[0m     height\u001b[39m=\u001b[39m\u001b[39m240\u001b[39m,\n\u001b[0;32m   (...)\u001b[0m\n\u001b[1;32m    182\u001b[0m                                       \u001b[39mNone\u001b[39;00m]] \u001b[39m=\u001b[39m \u001b[39mNone\u001b[39;00m,\n\u001b[1;32m    183\u001b[0m ):\n\u001b[1;32m    184\u001b[0m   \u001b[39m\"\"\"Returns a camera view as a NumPy array of pixel values.\u001b[39;00m\n\u001b[1;32m    185\u001b[0m \n\u001b[1;32m    186\u001b[0m \u001b[39m  Args:\u001b[39;00m\n\u001b[0;32m   (...)\u001b[0m\n\u001b[1;32m    214\u001b[0m \u001b[39m    The rendered RGB, depth or segmentation image.\u001b[39;00m\n\u001b[1;32m    215\u001b[0m \u001b[39m  \"\"\"\u001b[39;00m\n\u001b[0;32m--> 216\u001b[0m   camera \u001b[39m=\u001b[39m Camera(\n\u001b[1;32m    217\u001b[0m       physics\u001b[39m=\u001b[39;49m\u001b[39mself\u001b[39;49m,\n\u001b[1;32m    218\u001b[0m       height\u001b[39m=\u001b[39;49mheight,\n\u001b[1;32m    219\u001b[0m       width\u001b[39m=\u001b[39;49mwidth,\n\u001b[1;32m    220\u001b[0m       camera_id\u001b[39m=\u001b[39;49mcamera_id,\n\u001b[1;32m    221\u001b[0m       scene_callback\u001b[39m=\u001b[39;49mscene_callback)\n\u001b[1;32m    222\u001b[0m   image \u001b[39m=\u001b[39m camera\u001b[39m.\u001b[39mrender(\n\u001b[1;32m    223\u001b[0m       overlays\u001b[39m=\u001b[39moverlays, depth\u001b[39m=\u001b[39mdepth, segmentation\u001b[39m=\u001b[39msegmentation,\n\u001b[1;32m    224\u001b[0m       scene_option\u001b[39m=\u001b[39mscene_option, render_flag_overrides\u001b[39m=\u001b[39mrender_flag_overrides)\n\u001b[1;32m    225\u001b[0m   camera\u001b[39m.\u001b[39m_scene\u001b[39m.\u001b[39mfree()  \u001b[39m# pylint: disable=protected-access\u001b[39;00m\n",
      "File \u001b[0;32m~/miniconda3/envs/aibe/lib/python3.9/site-packages/dm_control/mujoco/engine.py:695\u001b[0m, in \u001b[0;36mCamera.__init__\u001b[0;34m(self, physics, height, width, camera_id, max_geom, scene_callback)\u001b[0m\n\u001b[1;32m    692\u001b[0m \u001b[39mself\u001b[39m\u001b[39m.\u001b[39m_rgb_buffer \u001b[39m=\u001b[39m np\u001b[39m.\u001b[39mempty((\u001b[39mself\u001b[39m\u001b[39m.\u001b[39m_height, \u001b[39mself\u001b[39m\u001b[39m.\u001b[39m_width, \u001b[39m3\u001b[39m), dtype\u001b[39m=\u001b[39mnp\u001b[39m.\u001b[39muint8)\n\u001b[1;32m    693\u001b[0m \u001b[39mself\u001b[39m\u001b[39m.\u001b[39m_depth_buffer \u001b[39m=\u001b[39m np\u001b[39m.\u001b[39mempty((\u001b[39mself\u001b[39m\u001b[39m.\u001b[39m_height, \u001b[39mself\u001b[39m\u001b[39m.\u001b[39m_width), dtype\u001b[39m=\u001b[39mnp\u001b[39m.\u001b[39mfloat32)\n\u001b[0;32m--> 695\u001b[0m \u001b[39mif\u001b[39;00m \u001b[39mself\u001b[39;49m\u001b[39m.\u001b[39;49m_physics\u001b[39m.\u001b[39;49mcontexts\u001b[39m.\u001b[39mmujoco \u001b[39mis\u001b[39;00m \u001b[39mnot\u001b[39;00m \u001b[39mNone\u001b[39;00m:\n\u001b[1;32m    696\u001b[0m   \u001b[39mwith\u001b[39;00m \u001b[39mself\u001b[39m\u001b[39m.\u001b[39m_physics\u001b[39m.\u001b[39mcontexts\u001b[39m.\u001b[39mgl\u001b[39m.\u001b[39mmake_current() \u001b[39mas\u001b[39;00m ctx:\n\u001b[1;32m    697\u001b[0m     ctx\u001b[39m.\u001b[39mcall(mujoco\u001b[39m.\u001b[39mmjr_setBuffer, mujoco\u001b[39m.\u001b[39mmjtFramebuffer\u001b[39m.\u001b[39mmjFB_OFFSCREEN,\n\u001b[1;32m    698\u001b[0m              \u001b[39mself\u001b[39m\u001b[39m.\u001b[39m_physics\u001b[39m.\u001b[39mcontexts\u001b[39m.\u001b[39mmujoco\u001b[39m.\u001b[39mptr)\n",
      "File \u001b[0;32m~/miniconda3/envs/aibe/lib/python3.9/site-packages/dm_control/mujoco/engine.py:526\u001b[0m, in \u001b[0;36mPhysics.contexts\u001b[0;34m(self)\u001b[0m\n\u001b[1;32m    524\u001b[0m \u001b[39mwith\u001b[39;00m \u001b[39mself\u001b[39m\u001b[39m.\u001b[39m_contexts_lock:\n\u001b[1;32m    525\u001b[0m   \u001b[39mif\u001b[39;00m \u001b[39mnot\u001b[39;00m \u001b[39mself\u001b[39m\u001b[39m.\u001b[39m_contexts:\n\u001b[0;32m--> 526\u001b[0m     \u001b[39mself\u001b[39;49m\u001b[39m.\u001b[39;49m_make_rendering_contexts()\n\u001b[1;32m    527\u001b[0m \u001b[39mreturn\u001b[39;00m \u001b[39mself\u001b[39m\u001b[39m.\u001b[39m_contexts\n",
      "File \u001b[0;32m~/miniconda3/envs/aibe/lib/python3.9/site-packages/dm_control/mujoco/engine.py:512\u001b[0m, in \u001b[0;36mPhysics._make_rendering_contexts\u001b[0;34m(self)\u001b[0m\n\u001b[1;32m    509\u001b[0m render_context \u001b[39m=\u001b[39m _render\u001b[39m.\u001b[39mRenderer(\n\u001b[1;32m    510\u001b[0m     max_width\u001b[39m=\u001b[39mmax_width, max_height\u001b[39m=\u001b[39mmax_height)\n\u001b[1;32m    511\u001b[0m \u001b[39m# Create the MuJoCo context.\u001b[39;00m\n\u001b[0;32m--> 512\u001b[0m mujoco_context \u001b[39m=\u001b[39m wrapper\u001b[39m.\u001b[39;49mMjrContext(\u001b[39mself\u001b[39;49m\u001b[39m.\u001b[39;49mmodel, render_context)\n\u001b[1;32m    513\u001b[0m \u001b[39mself\u001b[39m\u001b[39m.\u001b[39m_contexts \u001b[39m=\u001b[39m Contexts(gl\u001b[39m=\u001b[39mrender_context, mujoco\u001b[39m=\u001b[39mmujoco_context)\n",
      "File \u001b[0;32m~/miniconda3/envs/aibe/lib/python3.9/site-packages/dm_control/mujoco/wrapper/core.py:606\u001b[0m, in \u001b[0;36mMjrContext.__init__\u001b[0;34m(self, model, gl_context, font_scale)\u001b[0m\n\u001b[1;32m    604\u001b[0m \u001b[39mself\u001b[39m\u001b[39m.\u001b[39m_gl_context \u001b[39m=\u001b[39m gl_context\n\u001b[1;32m    605\u001b[0m \u001b[39mwith\u001b[39;00m gl_context\u001b[39m.\u001b[39mmake_current() \u001b[39mas\u001b[39;00m ctx:\n\u001b[0;32m--> 606\u001b[0m   ptr \u001b[39m=\u001b[39m ctx\u001b[39m.\u001b[39;49mcall(mujoco\u001b[39m.\u001b[39;49mMjrContext, model\u001b[39m.\u001b[39;49mptr, font_scale)\n\u001b[1;32m    607\u001b[0m   ctx\u001b[39m.\u001b[39mcall(mujoco\u001b[39m.\u001b[39mmjr_setBuffer, mujoco\u001b[39m.\u001b[39mmjtFramebuffer\u001b[39m.\u001b[39mmjFB_OFFSCREEN, ptr)\n\u001b[1;32m    608\u001b[0m gl_context\u001b[39m.\u001b[39mkeep_alive(ptr)\n",
      "File \u001b[0;32m~/miniconda3/envs/aibe/lib/python3.9/site-packages/dm_control/_render/executor/render_executor.py:138\u001b[0m, in \u001b[0;36mPassthroughRenderExecutor.call\u001b[0;34m(self, func, *args, **kwargs)\u001b[0m\n\u001b[1;32m    136\u001b[0m \u001b[39mdef\u001b[39;00m \u001b[39mcall\u001b[39m(\u001b[39mself\u001b[39m, func, \u001b[39m*\u001b[39margs, \u001b[39m*\u001b[39m\u001b[39m*\u001b[39mkwargs):\n\u001b[1;32m    137\u001b[0m   \u001b[39mself\u001b[39m\u001b[39m.\u001b[39m_check_locked()\n\u001b[0;32m--> 138\u001b[0m   \u001b[39mreturn\u001b[39;00m func(\u001b[39m*\u001b[39;49margs, \u001b[39m*\u001b[39;49m\u001b[39m*\u001b[39;49mkwargs)\n",
      "\u001b[0;31mFatalError\u001b[0m: gladLoadGL error"
     ]
    }
   ],
   "source": [
    "# This Functionality probably only works on Mac or Linux\n",
    "\n",
    "source.change_reference_of_actor(0)\n",
    "\n",
    "# cleanup_imgs is kind of dangerous, check out the source code before you run this please\n",
    "env_w_video = RecordVideoWrapper(env_w_source, width=1280, height=720, cleanup_imgs=False)\n",
    "\n",
    "iterator = collect(env=env_w_video, controller=controller, ts=ts)"
   ]
  },
  {
   "cell_type": "markdown",
   "metadata": {},
   "source": [
    "If you are interested in Performance of the controller in the model, then remember you can always convert a model to an environment using `ModelBasedEnv`.\n",
    "\n",
    "You might also want to check out the utility function `cc.collect.collect_exhaust_source` which does all that work for you!"
   ]
  },
  {
   "cell_type": "markdown",
   "metadata": {},
   "source": []
  }
 ],
 "metadata": {
  "kernelspec": {
   "display_name": "Python 3 (ipykernel)",
   "language": "python",
   "name": "python3"
  },
  "language_info": {
   "codemirror_mode": {
    "name": "ipython",
    "version": 3
   },
   "file_extension": ".py",
   "mimetype": "text/x-python",
   "name": "python",
   "nbconvert_exporter": "python",
   "pygments_lexer": "ipython3",
   "version": "3.9.13"
  },
  "orig_nbformat": 4,
  "vscode": {
   "interpreter": {
    "hash": "8ba084acad79e0f91d5a5588d305de266bf23ec298932ec3a210886ceb659ff1"
   }
  }
 },
 "nbformat": 4,
 "nbformat_minor": 2
}
