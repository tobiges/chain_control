{
 "cells": [
  {
   "cell_type": "markdown",
   "metadata": {},
   "source": [
    "# Collecting data from an environment"
   ]
  },
  {
   "cell_type": "code",
   "execution_count": 31,
   "metadata": {},
   "outputs": [],
   "source": [
    "from cc.collect import (\n",
    "    collect,\n",
    "    collect_reference_source,\n",
    "    collect_sample,\n",
    "    concat_iterators\n",
    ")\n",
    "from cc import save, load \n",
    "from cc.env import make_env\n",
    "from cc.utils import generate_ts\n",
    "from cc.env.wrappers import AddReferenceObservationWrapper\n",
    "from cc.env.wrappers.add_source import default_reward_fn\n",
    "import matplotlib.pyplot as plt "
   ]
  },
  {
   "cell_type": "code",
   "execution_count": 5,
   "metadata": {},
   "outputs": [],
   "source": [
    "time_limit=5.0 # s\n",
    "control_timestep=0.01 # s \n",
    "\n",
    "env = make_env(\n",
    "    \"two_segments_v1\", \n",
    "    random=1, # the initial condition might be randomized; fixes the seed \n",
    "    control_timestep=control_timestep, # the control rate, here 100 Hz \n",
    "    time_limit=time_limit, # the upper time limit; after 5 seconds the environment is done\n",
    "    delay=0 # whether or not the action is delayed before the environment sees it \n",
    "    )"
   ]
  },
  {
   "cell_type": "code",
   "execution_count": 8,
   "metadata": {},
   "outputs": [],
   "source": [
    "ts = generate_ts(time_limit, control_timestep)"
   ]
  },
  {
   "cell_type": "markdown",
   "metadata": {},
   "source": [
    "##### Therefore the length of an episode trajectory will be"
   ]
  },
  {
   "cell_type": "code",
   "execution_count": 9,
   "metadata": {},
   "outputs": [
    {
     "data": {
      "text/plain": [
       "501"
      ]
     },
     "execution_count": 9,
     "metadata": {},
     "output_type": "execute_result"
    }
   ],
   "source": [
    "N = len(ts)+1 # +1 for the initial state (no action performed yet)\n",
    "N"
   ]
  },
  {
   "cell_type": "markdown",
   "metadata": {},
   "source": [
    "#### And we apply inputs at those timesteps"
   ]
  },
  {
   "cell_type": "code",
   "execution_count": 10,
   "metadata": {},
   "outputs": [
    {
     "data": {
      "text/plain": [
       "DeviceArray([0.        , 0.01      , 0.02      , 0.03      , 0.04      ,\n",
       "             0.05      , 0.06      , 0.07      , 0.08      , 0.09      ,\n",
       "             0.09999999, 0.11      , 0.12      , 0.13      , 0.14      ,\n",
       "             0.14999999, 0.16      , 0.17      , 0.17999999, 0.19      ],            dtype=float32)"
      ]
     },
     "execution_count": 10,
     "metadata": {},
     "output_type": "execute_result"
    }
   ],
   "source": [
    "ts[:20]"
   ]
  },
  {
   "cell_type": "markdown",
   "metadata": {},
   "source": [
    "#### The input to the system and observation from the system is of the form"
   ]
  },
  {
   "cell_type": "code",
   "execution_count": 11,
   "metadata": {},
   "outputs": [
    {
     "data": {
      "text/plain": [
       "BoundedArray(shape=(1,), dtype=dtype('float32'), name=None, minimum=[-1.e+10], maximum=[1.e+10])"
      ]
     },
     "execution_count": 11,
     "metadata": {},
     "output_type": "execute_result"
    }
   ],
   "source": [
    "env.action_spec()"
   ]
  },
  {
   "cell_type": "code",
   "execution_count": 12,
   "metadata": {},
   "outputs": [
    {
     "data": {
      "text/plain": [
       "OrderedDict([('xpos_of_segment_end',\n",
       "              Array(shape=(1,), dtype=dtype('float32'), name='xpos_of_segment_end'))])"
      ]
     },
     "execution_count": 12,
     "metadata": {},
     "output_type": "execute_result"
    }
   ],
   "source": [
    "env.observation_spec()"
   ]
  },
  {
   "cell_type": "code",
   "execution_count": 13,
   "metadata": {},
   "outputs": [
    {
     "data": {
      "text/plain": [
       "TimeStep(step_type=<StepType.MID: 1>, reward=array(0., dtype=float32), discount=array(1., dtype=float32), observation=OrderedDict([('xpos_of_segment_end', array([4.9619352e-06], dtype=float32))]))"
      ]
     },
     "execution_count": 13,
     "metadata": {},
     "output_type": "execute_result"
    }
   ],
   "source": [
    "env.step([0.1])"
   ]
  },
  {
   "cell_type": "code",
   "execution_count": 14,
   "metadata": {},
   "outputs": [
    {
     "data": {
      "text/plain": [
       "TimeStep(step_type=<StepType.FIRST: 0>, reward=None, discount=None, observation=OrderedDict([('xpos_of_segment_end', array([2.5717583e-16], dtype=float32))]))"
      ]
     },
     "execution_count": 14,
     "metadata": {},
     "output_type": "execute_result"
    }
   ],
   "source": [
    "env.reset()"
   ]
  },
  {
   "cell_type": "markdown",
   "metadata": {},
   "source": [
    "##### Let's collect some data from the environment"
   ]
  },
  {
   "cell_type": "code",
   "execution_count": 16,
   "metadata": {},
   "outputs": [
    {
     "name": "stdout",
     "output_type": "stream",
     "text": [
      "COMPILING object <class 'cc.controller.controller.FeedforwardController'>\n"
     ]
    }
   ],
   "source": [
    "train_sample = collect_sample(\n",
    "    env, \n",
    "    seeds_gp=[0,1,2], # this uses a gaussian process to draw some fixed action/input trajectories \n",
    "                        # that we then can apply to the system and record the output\n",
    "    seeds_cos=[2,4] # this uses a cosine-wave with a frequency of 2 and 4; really this shouldn't \n",
    "                        # be called seed \n",
    "    )"
   ]
  },
  {
   "cell_type": "code",
   "execution_count": 25,
   "metadata": {},
   "outputs": [
    {
     "data": {
      "text/plain": [
       "cc.buffer.sampler.ReplaySample"
      ]
     },
     "execution_count": 25,
     "metadata": {},
     "output_type": "execute_result"
    }
   ],
   "source": [
    "type(train_sample)"
   ]
  },
  {
   "cell_type": "code",
   "execution_count": 18,
   "metadata": {},
   "outputs": [
    {
     "data": {
      "text/plain": [
       "5"
      ]
     },
     "execution_count": 18,
     "metadata": {},
     "output_type": "execute_result"
    }
   ],
   "source": [
    "train_sample.bs"
   ]
  },
  {
   "cell_type": "code",
   "execution_count": 20,
   "metadata": {},
   "outputs": [
    {
     "data": {
      "text/plain": [
       "(5, 500, 1)"
      ]
     },
     "execution_count": 20,
     "metadata": {},
     "output_type": "execute_result"
    }
   ],
   "source": [
    "train_sample.action.shape"
   ]
  },
  {
   "cell_type": "code",
   "execution_count": 21,
   "metadata": {},
   "outputs": [
    {
     "data": {
      "text/plain": [
       "(5, 501, 1)"
      ]
     },
     "execution_count": 21,
     "metadata": {},
     "output_type": "execute_result"
    }
   ],
   "source": [
    "train_sample.obs[\"xpos_of_segment_end\"].shape"
   ]
  },
  {
   "cell_type": "code",
   "execution_count": 24,
   "metadata": {},
   "outputs": [
    {
     "data": {
      "text/plain": [
       "Text(0, 0.5, 'Motor input')"
      ]
     },
     "execution_count": 24,
     "metadata": {},
     "output_type": "execute_result"
    },
    {
     "data": {
      "image/png": "[encoded data removed]",
      "text/plain": [
       "<Figure size 640x480 with 1 Axes>"
      ]
     },
     "metadata": {},
     "output_type": "display_data"
    }
   ],
   "source": [
    "for idx in range(train_sample.bs):\n",
    "    plt.plot(train_sample.action[idx])\n",
    "plt.ylabel(\"Motor input\")"
   ]
  },
  {
   "cell_type": "code",
   "execution_count": 23,
   "metadata": {},
   "outputs": [
    {
     "data": {
      "text/plain": [
       "Text(0, 0.5, 'X-Position')"
      ]
     },
     "execution_count": 23,
     "metadata": {},
     "output_type": "execute_result"
    },
    {
     "data": {
      "image/png": "[encoded data removed]",
      "text/plain": [
       "<Figure size 640x480 with 1 Axes>"
      ]
     },
     "metadata": {},
     "output_type": "display_data"
    }
   ],
   "source": [
    "for idx in range(train_sample.bs):\n",
    "    plt.plot(train_sample.obs[\"xpos_of_segment_end\"][idx])\n",
    "plt.ylabel(\"X-Position\")"
   ]
  },
  {
   "cell_type": "code",
   "execution_count": 29,
   "metadata": {},
   "outputs": [
    {
     "data": {
      "text/plain": [
       "array([[0.],\n",
       "       [0.],\n",
       "       [0.],\n",
       "       [0.],\n",
       "       [0.],\n",
       "       [0.],\n",
       "       [0.],\n",
       "       [0.],\n",
       "       [0.],\n",
       "       [0.]], dtype=float32)"
      ]
     },
     "execution_count": 29,
     "metadata": {},
     "output_type": "execute_result"
    }
   ],
   "source": [
    "train_sample.rew[0,:10]"
   ]
  },
  {
   "cell_type": "markdown",
   "metadata": {},
   "source": [
    "Notice how there is no reward, how could there be? \n",
    "\n",
    "We have to add \n",
    "- first, create some reference output that we want to track\n",
    "- second, add the reference to the environment and specify a reward-function"
   ]
  },
  {
   "cell_type": "markdown",
   "metadata": {},
   "source": [
    "Let's now create an arbitrary smooth input-trajectory, record the observation of that input as reference and store it "
   ]
  },
  {
   "cell_type": "code",
   "execution_count": 30,
   "metadata": {},
   "outputs": [],
   "source": [
    "source = collect_reference_source(env, \n",
    "    seeds = [0,17], # this should really be called seeds_gp \n",
    "    constant_after=False, # if we enable this flag the reference will become constant after 3 seconds \n",
    "    constant_after_T=3.0 # unused \n",
    ")"
   ]
  },
  {
   "cell_type": "code",
   "execution_count": 32,
   "metadata": {},
   "outputs": [],
   "source": [
    "env_w_rew = AddReferenceObservationWrapper(env, \n",
    "    source=source,\n",
    "    reward_fn=default_reward_fn \n",
    ")"
   ]
  },
  {
   "cell_type": "markdown",
   "metadata": {},
   "source": [
    "Now, the observation is the reference and the actual observation"
   ]
  },
  {
   "cell_type": "code",
   "execution_count": 34,
   "metadata": {},
   "outputs": [
    {
     "data": {
      "text/plain": [
       "OrderedDict([('obs',\n",
       "              OrderedDict([('xpos_of_segment_end',\n",
       "                            Array(shape=(1,), dtype=dtype('float32'), name='xpos_of_segment_end'))])),\n",
       "             ('ref',\n",
       "              OrderedDict([('xpos_of_segment_end',\n",
       "                            Array(shape=(1,), dtype=dtype('float32'), name='xpos_of_segment_end'))]))])"
      ]
     },
     "execution_count": 34,
     "metadata": {},
     "output_type": "execute_result"
    }
   ],
   "source": [
    "env_w_rew.observation_spec()"
   ]
  },
  {
   "cell_type": "markdown",
   "metadata": {},
   "source": [
    "And the environment now has some reward"
   ]
  },
  {
   "cell_type": "code",
   "execution_count": 41,
   "metadata": {},
   "outputs": [
    {
     "data": {
      "text/plain": [
       "-9.101565296987246e-07"
      ]
     },
     "execution_count": 41,
     "metadata": {},
     "output_type": "execute_result"
    }
   ],
   "source": [
    "env_w_rew.step([0.1]).reward"
   ]
  },
  {
   "cell_type": "code",
   "execution_count": 42,
   "metadata": {},
   "outputs": [
    {
     "data": {
      "text/plain": [
       "-5.430573310150066e-06"
      ]
     },
     "execution_count": 42,
     "metadata": {},
     "output_type": "execute_result"
    }
   ],
   "source": [
    "env_w_rew.step([0.1]).reward"
   ]
  },
  {
   "cell_type": "markdown",
   "metadata": {},
   "source": [
    "Remember, how our source contains *2* trajectories. So, which one are we currently \"seeing\" in this environment in the observation"
   ]
  },
  {
   "cell_type": "code",
   "execution_count": 43,
   "metadata": {},
   "outputs": [
    {
     "data": {
      "text/plain": [
       "0"
      ]
     },
     "execution_count": 43,
     "metadata": {},
     "output_type": "execute_result"
    }
   ],
   "source": [
    "source._i_actor"
   ]
  },
  {
   "cell_type": "code",
   "execution_count": 45,
   "metadata": {},
   "outputs": [
    {
     "data": {
      "text/plain": [
       "OrderedDict([('xpos_of_segment_end',\n",
       "              DeviceArray([-6.1108185e-05], dtype=float32))])"
      ]
     },
     "execution_count": 45,
     "metadata": {},
     "output_type": "execute_result"
    }
   ],
   "source": [
    "env_w_rew.reset()\n",
    "env_w_rew.step([0.1]).observation[\"ref\"]"
   ]
  },
  {
   "cell_type": "code",
   "execution_count": 46,
   "metadata": {},
   "outputs": [
    {
     "data": {
      "text/plain": [
       "1"
      ]
     },
     "execution_count": 46,
     "metadata": {},
     "output_type": "execute_result"
    }
   ],
   "source": [
    "# let's change the reference to the second one \n",
    "source.change_reference_of_actor(1)\n",
    "source._i_actor"
   ]
  },
  {
   "cell_type": "code",
   "execution_count": 47,
   "metadata": {},
   "outputs": [
    {
     "data": {
      "text/plain": [
       "OrderedDict([('xpos_of_segment_end',\n",
       "              DeviceArray([1.5516744e-05], dtype=float32))])"
      ]
     },
     "execution_count": 47,
     "metadata": {},
     "output_type": "execute_result"
    }
   ],
   "source": [
    "# now it is different\n",
    "env_w_rew.reset()\n",
    "env_w_rew.step([0.1]).observation[\"ref\"]"
   ]
  },
  {
   "cell_type": "markdown",
   "metadata": {},
   "source": [
    "### Now we have all the components to \n",
    "- get Training/Testing-data for the training of a *model* using `collect_sample`\n",
    "- get suible Reference Trajectories using `collect_reference_source` and add this reference to the environment"
   ]
  },
  {
   "cell_type": "markdown",
   "metadata": {},
   "source": [
    "##### Finally, you can also save/load `source` and `train_sample` using the functions `save` and `load`"
   ]
  },
  {
   "cell_type": "code",
   "execution_count": 28,
   "metadata": {},
   "outputs": [
    {
     "data": {
      "text/plain": [
       "ReplaySample(obs=OrderedDict([('xpos_of_segment_end', array([[[ 2.57175826e-16],\n",
       "        [-3.05541507e-05],\n",
       "        [-6.90016532e-05],\n",
       "        ...,\n",
       "        [-1.03315105e+01],\n",
       "        [-1.03268757e+01],\n",
       "        [-1.03220415e+01]],\n",
       "\n",
       "       [[ 2.57175826e-16],\n",
       "        [ 3.00777774e-05],\n",
       "        [ 6.79362347e-05],\n",
       "        ...,\n",
       "        [ 8.21188831e+00],\n",
       "        [ 8.20172405e+00],\n",
       "        [ 8.19144344e+00]],\n",
       "\n",
       "       [[ 2.57175826e-16],\n",
       "        [ 2.08019319e-05],\n",
       "        [ 4.69383594e-05],\n",
       "        ...,\n",
       "        [-5.17777912e-02],\n",
       "        [-5.12913205e-02],\n",
       "        [-5.03661931e-02]],\n",
       "\n",
       "       [[ 2.57175826e-16],\n",
       "        [ 2.37798831e-05],\n",
       "        [ 5.37460292e-05],\n",
       "        ...,\n",
       "        [-2.21253216e-01],\n",
       "        [-2.15807855e-01],\n",
       "        [-2.09519193e-01]],\n",
       "\n",
       "       [[ 2.57175826e-16],\n",
       "        [ 2.75593084e-05],\n",
       "        [ 6.22796142e-05],\n",
       "        ...,\n",
       "        [-8.75281692e-01],\n",
       "        [-8.69376123e-01],\n",
       "        [-8.60554695e-01]]], dtype=float32))]), action=array([[[-2.7972546],\n",
       "        [-2.7762315],\n",
       "        [-2.7549129],\n",
       "        ...,\n",
       "        [ 1.6239647],\n",
       "        [ 1.6246341],\n",
       "        [ 1.6250484]],\n",
       "\n",
       "       [[ 2.636936 ],\n",
       "        [ 2.6215525],\n",
       "        [ 2.6060576],\n",
       "        ...,\n",
       "        [-0.5765212],\n",
       "        [-0.5927426],\n",
       "        [-0.6091591]],\n",
       "\n",
       "       [[ 1.1059873],\n",
       "        [ 1.0988328],\n",
       "        [ 1.0916841],\n",
       "        ...,\n",
       "        [ 2.3670871],\n",
       "        [ 2.3834708],\n",
       "        [ 2.3995621]],\n",
       "\n",
       "       [[ 1.4142135],\n",
       "        [ 1.4137651],\n",
       "        [ 1.4124202],\n",
       "        ...,\n",
       "        [ 1.4124202],\n",
       "        [ 1.4137652],\n",
       "        [ 1.4142135]],\n",
       "\n",
       "       [[ 2.       ],\n",
       "        [ 1.9974638],\n",
       "        [ 1.9898616],\n",
       "        ...,\n",
       "        [ 1.9898616],\n",
       "        [ 1.997464 ],\n",
       "        [ 2.       ]]], dtype=float32), rew=array([[[0.],\n",
       "        [0.],\n",
       "        [0.],\n",
       "        ...,\n",
       "        [0.],\n",
       "        [0.],\n",
       "        [0.]],\n",
       "\n",
       "       [[0.],\n",
       "        [0.],\n",
       "        [0.],\n",
       "        ...,\n",
       "        [0.],\n",
       "        [0.],\n",
       "        [0.]],\n",
       "\n",
       "       [[0.],\n",
       "        [0.],\n",
       "        [0.],\n",
       "        ...,\n",
       "        [0.],\n",
       "        [0.],\n",
       "        [0.]],\n",
       "\n",
       "       [[0.],\n",
       "        [0.],\n",
       "        [0.],\n",
       "        ...,\n",
       "        [0.],\n",
       "        [0.],\n",
       "        [0.]],\n",
       "\n",
       "       [[0.],\n",
       "        [0.],\n",
       "        [0.],\n",
       "        ...,\n",
       "        [0.],\n",
       "        [0.],\n",
       "        [0.]]], dtype=float32), done=array([[[0.],\n",
       "        [0.],\n",
       "        [0.],\n",
       "        ...,\n",
       "        [0.],\n",
       "        [0.],\n",
       "        [1.]],\n",
       "\n",
       "       [[0.],\n",
       "        [0.],\n",
       "        [0.],\n",
       "        ...,\n",
       "        [0.],\n",
       "        [0.],\n",
       "        [1.]],\n",
       "\n",
       "       [[0.],\n",
       "        [0.],\n",
       "        [0.],\n",
       "        ...,\n",
       "        [0.],\n",
       "        [0.],\n",
       "        [1.]],\n",
       "\n",
       "       [[0.],\n",
       "        [0.],\n",
       "        [0.],\n",
       "        ...,\n",
       "        [0.],\n",
       "        [0.],\n",
       "        [1.]],\n",
       "\n",
       "       [[0.],\n",
       "        [0.],\n",
       "        [0.],\n",
       "        ...,\n",
       "        [0.],\n",
       "        [0.],\n",
       "        [1.]]], dtype=float32), extras={'NONE': array([[[0.],\n",
       "        [0.],\n",
       "        [0.],\n",
       "        ...,\n",
       "        [0.],\n",
       "        [0.],\n",
       "        [0.]],\n",
       "\n",
       "       [[0.],\n",
       "        [0.],\n",
       "        [0.],\n",
       "        ...,\n",
       "        [0.],\n",
       "        [0.],\n",
       "        [0.]],\n",
       "\n",
       "       [[0.],\n",
       "        [0.],\n",
       "        [0.],\n",
       "        ...,\n",
       "        [0.],\n",
       "        [0.],\n",
       "        [0.]],\n",
       "\n",
       "       [[0.],\n",
       "        [0.],\n",
       "        [0.],\n",
       "        ...,\n",
       "        [0.],\n",
       "        [0.],\n",
       "        [0.]],\n",
       "\n",
       "       [[0.],\n",
       "        [0.],\n",
       "        [0.],\n",
       "        ...,\n",
       "        [0.],\n",
       "        [0.],\n",
       "        [0.]]])})"
      ]
     },
     "execution_count": 28,
     "metadata": {},
     "output_type": "execute_result"
    }
   ],
   "source": [
    "save(train_sample, \"train_sample.pkl\")\n",
    "load(\"train_sample.pkl\")"
   ]
  },
  {
   "cell_type": "code",
   "execution_count": null,
   "metadata": {},
   "outputs": [],
   "source": []
  }
 ],
 "metadata": {
  "kernelspec": {
   "display_name": "Python 3 (ipykernel)",
   "language": "python",
   "name": "python3"
  },
  "language_info": {
   "codemirror_mode": {
    "name": "ipython",
    "version": 3
   },
   "file_extension": ".py",
   "mimetype": "text/x-python",
   "name": "python",
   "nbconvert_exporter": "python",
   "pygments_lexer": "ipython3",
   "version": "3.10.6"
  },
  "vscode": {
   "interpreter": {
    "hash": "8d9c863fb986fa342e8b7e2ad667cb8566ab6ae40647af51ec8caf787fd66a57"
   }
  }
 },
 "nbformat": 4,
 "nbformat_minor": 2
}
