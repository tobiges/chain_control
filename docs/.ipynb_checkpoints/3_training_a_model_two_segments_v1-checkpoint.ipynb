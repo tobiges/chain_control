{
 "cells": [
  {
   "cell_type": "code",
   "execution_count": 1,
   "metadata": {},
   "outputs": [
    {
     "name": "stderr",
     "output_type": "stream",
     "text": [
      "WARNING:absl:No GPU/TPU found, falling back to CPU. (Set TF_CPP_MIN_LOG_LEVEL=0 and rerun for more info.)\n"
     ]
    }
   ],
   "source": [
    "from cc.model import LinearModel, LinearModelOptions, NonlinearModelOptions, NonlinearModel\n",
    "from cc.model.eval_model import eval_model\n",
    "from cc.collect import collect_sample\n",
    "from cc.env import make_env, ModelBasedEnv\n",
    "from cc.train import train_model, TrainingOptionsModel\n",
    "from cc import save, load \n",
    "import jax.random as jrand\n",
    "import optax  "
   ]
  },
  {
   "cell_type": "code",
   "execution_count": 2,
   "metadata": {},
   "outputs": [],
   "source": [
    "time_limit = 10.0\n",
    "control_timestep = 0.01\n",
    "\n",
    "env = make_env(\"two_segments_v1\", time_limit=time_limit, control_timestep=control_timestep, random=1)"
   ]
  },
  {
   "cell_type": "code",
   "execution_count": 3,
   "metadata": {},
   "outputs": [
    {
     "name": "stdout",
     "output_type": "stream",
     "text": [
      "WARNING: Object <class 'cc.controller.controller.FeedforwardController'> is being traced. \n",
      "            If this message is display continuously then you probably forgot to compile the model or controller. \n",
      "            This can be fixed by calling `*model/controller* = equniox.filter_jit(*model/controller*).\n",
      "            \n"
     ]
    }
   ],
   "source": [
    "train_sample = collect_sample(\n",
    "    env,\n",
    "    seeds_gp=[0,1,2,4,5,6,7,8,9,10,11,12,13,14],\n",
    "    seeds_cos=[1,2,3,4,5,6,7,8,9,10,11,12,13,14,15]\n",
    ")\n",
    "\n",
    "test_sample = collect_sample(\n",
    "    env, \n",
    "    seeds_gp=[15, 16, 17, 18, 19],\n",
    "    seeds_cos=[2.5, 5.0, 7.5, 10.0, 12.5] # really shouldn't be called seeds, rather frequency\n",
    ")"
   ]
  },
  {
   "cell_type": "code",
   "execution_count": 29,
   "metadata": {},
   "outputs": [],
   "source": [
    "options = NonlinearModelOptions(\n",
    "    12, 1, 1, # state-size, input-size, output-size\n",
    "    \"EE\", # integrate-method\n",
    "    jrand.PRNGKey(1,), # seed for parameter init\n",
    "    depth_f=2, # number of layers \n",
    "    width_f=25, # width of layers\n",
    "    depth_g=0,\n",
    ")"
   ]
  },
  {
   "cell_type": "code",
   "execution_count": 30,
   "metadata": {},
   "outputs": [],
   "source": [
    "model = NonlinearModel(options)"
   ]
  },
  {
   "cell_type": "code",
   "execution_count": 31,
   "metadata": {},
   "outputs": [
    {
     "name": "stdout",
     "output_type": "stream",
     "text": [
      "WARNING: Object <class 'cc.model.model.NonlinearModel'> is being traced. \n",
      "            If this message is display continuously then you probably forgot to compile the model or controller. \n",
      "            This can be fixed by calling `*model/controller* = equniox.filter_jit(*model/controller*).\n",
      "            \n"
     ]
    }
   ],
   "source": [
    "import numpy as np\n",
    "\n",
    "\n",
    "action = np.array([0.2])\n",
    "# this returns a new model with an updated internal state\n",
    "# and of course the actual prediction of the observation\n",
    "new_model, predicted_obs = model(action)"
   ]
  },
  {
   "cell_type": "code",
   "execution_count": 32,
   "metadata": {},
   "outputs": [
    {
     "data": {
      "text/plain": [
       "OrderedDict([('xpos_of_segment_end',\n",
       "              DeviceArray([0.01827196], dtype=float32))])"
      ]
     },
     "execution_count": 32,
     "metadata": {},
     "output_type": "execute_result"
    }
   ],
   "source": [
    "predicted_obs"
   ]
  },
  {
   "cell_type": "code",
   "execution_count": 33,
   "metadata": {},
   "outputs": [
    {
     "data": {
      "text/plain": [
       "cc.model.model.NonlinearModel"
      ]
     },
     "execution_count": 33,
     "metadata": {},
     "output_type": "execute_result"
    }
   ],
   "source": [
    "type(new_model)"
   ]
  },
  {
   "cell_type": "code",
   "execution_count": 35,
   "metadata": {},
   "outputs": [
    {
     "name": "stderr",
     "output_type": "stream",
     "text": [
      "  0%|          | 0/1000 [00:00<?, ?it/s]"
     ]
    },
    {
     "name": "stdout",
     "output_type": "stream",
     "text": [
      "WARNING: Object <class 'cc.model.model.NonlinearModel'> is being traced. \n",
      "            If this message is display continuously then you probably forgot to compile the model or controller. \n",
      "            This can be fixed by calling `*model/controller* = equniox.filter_jit(*model/controller*).\n",
      "            \n",
      "WARNING: Object <class 'cc.model.model.NonlinearModel'> is being traced. \n",
      "            If this message is display continuously then you probably forgot to compile the model or controller. \n",
      "            This can be fixed by calling `*model/controller* = equniox.filter_jit(*model/controller*).\n",
      "            \n",
      "WARNING: Object <class 'cc.model.model.NonlinearModel'> is being traced. \n",
      "            If this message is display continuously then you probably forgot to compile the model or controller. \n",
      "            This can be fixed by calling `*model/controller* = equniox.filter_jit(*model/controller*).\n",
      "            \n",
      "WARNING: Object <class 'cc.model.model.NonlinearModel'> is being traced. \n",
      "            If this message is display continuously then you probably forgot to compile the model or controller. \n",
      "            This can be fixed by calling `*model/controller* = equniox.filter_jit(*model/controller*).\n",
      "            \n"
     ]
    },
    {
     "name": "stderr",
     "output_type": "stream",
     "text": [
      "Trainings-Loss:     0.8498 | Test-Loss:     7.1419 | ParamsRegu:     0.0259:   0%|          | 1/1000 [00:01<19:37,  1.18s/it]"
     ]
    },
    {
     "name": "stdout",
     "output_type": "stream",
     "text": [
      "WARNING: Object <class 'cc.model.model.NonlinearModel'> is being traced. \n",
      "            If this message is display continuously then you probably forgot to compile the model or controller. \n",
      "            This can be fixed by calling `*model/controller* = equniox.filter_jit(*model/controller*).\n",
      "            \n",
      "WARNING: Object <class 'cc.model.model.NonlinearModel'> is being traced. \n",
      "            If this message is display continuously then you probably forgot to compile the model or controller. \n",
      "            This can be fixed by calling `*model/controller* = equniox.filter_jit(*model/controller*).\n",
      "            \n",
      "WARNING: Object <class 'cc.model.model.NonlinearModel'> is being traced. \n",
      "            If this message is display continuously then you probably forgot to compile the model or controller. \n",
      "            This can be fixed by calling `*model/controller* = equniox.filter_jit(*model/controller*).\n",
      "            \n",
      "WARNING: Object <class 'cc.model.model.NonlinearModel'> is being traced. \n",
      "            If this message is display continuously then you probably forgot to compile the model or controller. \n",
      "            This can be fixed by calling `*model/controller* = equniox.filter_jit(*model/controller*).\n",
      "            \n"
     ]
    },
    {
     "name": "stderr",
     "output_type": "stream",
     "text": [
      "Trainings-Loss:     0.3967 | Test-Loss:     4.2053 | ParamsRegu:     0.0280: 100%|██████████| 1000/1000 [00:25<00:00, 39.09it/s]\n"
     ]
    }
   ],
   "source": [
    "training_options = TrainingOptionsModel(\n",
    "    optax.adam(3e-3), 0.05, 1000, 1, True \n",
    ")\n",
    "\n",
    "# requires ~25 seconds on my PC\n",
    "# achieves a Test-Loss of ~4.2 on v1\n",
    "model, losses = train_model(model, train_sample, training_options=training_options, test_sample=test_sample)"
   ]
  },
  {
   "cell_type": "code",
   "execution_count": 36,
   "metadata": {},
   "outputs": [
    {
     "name": "stdout",
     "output_type": "stream",
     "text": [
      "WARNING: Object <class 'cc.model.model.NonlinearModel'> is being traced. \n",
      "            If this message is display continuously then you probably forgot to compile the model or controller. \n",
      "            This can be fixed by calling `*model/controller* = equniox.filter_jit(*model/controller*).\n",
      "            \n",
      "WARNING: Object <class 'cc.model.model.NonlinearModel'> is being traced. \n",
      "            If this message is display continuously then you probably forgot to compile the model or controller. \n",
      "            This can be fixed by calling `*model/controller* = equniox.filter_jit(*model/controller*).\n",
      "            \n"
     ]
    }
   ],
   "source": [
    "# small little helper function\n",
    "predicted_observation, test_rmse = eval_model(model, test_sample)"
   ]
  },
  {
   "cell_type": "code",
   "execution_count": 37,
   "metadata": {},
   "outputs": [
    {
     "data": {
      "text/plain": [
       "(10, 1001, 1)"
      ]
     },
     "execution_count": 37,
     "metadata": {},
     "output_type": "execute_result"
    }
   ],
   "source": [
    "predicted_observation[\"xpos_of_segment_end\"].shape"
   ]
  },
  {
   "cell_type": "code",
   "execution_count": 38,
   "metadata": {},
   "outputs": [
    {
     "data": {
      "text/plain": [
       "OrderedDict([('xpos_of_segment_end', DeviceArray(1.9408518, dtype=float32))])"
      ]
     },
     "execution_count": 38,
     "metadata": {},
     "output_type": "execute_result"
    }
   ],
   "source": [
    "test_rmse"
   ]
  },
  {
   "cell_type": "markdown",
   "metadata": {},
   "source": [
    "Finally, you can also replace the `Mujoco` physics component in your environment with your model. \n",
    "\n",
    "This creates a new environment that looks exactly the same from outside."
   ]
  },
  {
   "cell_type": "code",
   "execution_count": 39,
   "metadata": {},
   "outputs": [],
   "source": [
    "env_model = ModelBasedEnv(env, model, time_limit=time_limit, control_timestep=control_timestep)"
   ]
  },
  {
   "cell_type": "code",
   "execution_count": 40,
   "metadata": {},
   "outputs": [
    {
     "data": {
      "text/plain": [
       "TimeStep(step_type=<StepType.MID: 1>, reward=array(0.), discount=array(1., dtype=float32), observation=OrderedDict([('xpos_of_segment_end', array([0.04514713], dtype=float32))]))"
      ]
     },
     "execution_count": 40,
     "metadata": {},
     "output_type": "execute_result"
    }
   ],
   "source": [
    "env_model.step([0.2])"
   ]
  },
  {
   "cell_type": "code",
   "execution_count": 41,
   "metadata": {},
   "outputs": [],
   "source": [
    "# save model \n",
    "save(model, \"model_for_two_segments_v1.pkl\")"
   ]
  },
  {
   "cell_type": "code",
   "execution_count": 42,
   "metadata": {},
   "outputs": [
    {
     "data": {
      "text/plain": [
       "NonlinearModel(\n",
       "  rhs=NonlinearRHS(\n",
       "    f=MLP(\n",
       "      layers=[\n",
       "        Linear(\n",
       "          weight=f32[25,13],\n",
       "          bias=f32[25],\n",
       "          in_features=13,\n",
       "          out_features=25,\n",
       "          use_bias=True\n",
       "        ),\n",
       "        Linear(\n",
       "          weight=f32[25,25],\n",
       "          bias=f32[25],\n",
       "          in_features=25,\n",
       "          out_features=25,\n",
       "          use_bias=True\n",
       "        ),\n",
       "        Linear(\n",
       "          weight=f32[12,25],\n",
       "          bias=f32[12],\n",
       "          in_features=25,\n",
       "          out_features=12,\n",
       "          use_bias=True\n",
       "        )\n",
       "      ],\n",
       "      activation=<CompiledFunction>,\n",
       "      final_activation=<function <lambda>>,\n",
       "      in_size=13,\n",
       "      out_size=12,\n",
       "      width_size=25,\n",
       "      depth=2\n",
       "    ),\n",
       "    g=MLP(\n",
       "      layers=[\n",
       "        Linear(\n",
       "          weight=f32[1,12],\n",
       "          bias=f32[1],\n",
       "          in_features=12,\n",
       "          out_features=1,\n",
       "          use_bias=True\n",
       "        )\n",
       "      ],\n",
       "      activation=<CompiledFunction>,\n",
       "      final_activation=<function <lambda>>,\n",
       "      in_size=12,\n",
       "      out_size=1,\n",
       "      width_size=0,\n",
       "      depth=0\n",
       "    ),\n",
       "    _init_state=NotAParameter(_=f32[12]),\n",
       "    method='EE'\n",
       "  ),\n",
       "  state=NotAParameter(_=f32[12]),\n",
       "  input_size=1,\n",
       "  output_size=1\n",
       ")"
      ]
     },
     "execution_count": 42,
     "metadata": {},
     "output_type": "execute_result"
    }
   ],
   "source": [
    "load(\"model_for_two_segments_v1.pkl\")"
   ]
  },
  {
   "cell_type": "code",
   "execution_count": null,
   "metadata": {},
   "outputs": [],
   "source": []
  }
 ],
 "metadata": {
  "kernelspec": {
   "display_name": "Python 3 (ipykernel)",
   "language": "python",
   "name": "python3"
  },
  "language_info": {
   "codemirror_mode": {
    "name": "ipython",
    "version": 3
   },
   "file_extension": ".py",
   "mimetype": "text/x-python",
   "name": "python",
   "nbconvert_exporter": "python",
   "pygments_lexer": "ipython3",
   "version": "3.10.6"
  },
  "vscode": {
   "interpreter": {
    "hash": "8d9c863fb986fa342e8b7e2ad667cb8566ab6ae40647af51ec8caf787fd66a57"
   }
  }
 },
 "nbformat": 4,
 "nbformat_minor": 2
}
