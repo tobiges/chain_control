{
 "cells": [
  {
   "cell_type": "markdown",
   "metadata": {},
   "source": [
    "# Collecting data from an environment"
   ]
  },
  {
   "cell_type": "code",
   "execution_count": 1,
   "metadata": {
    "execution": {
     "iopub.execute_input": "2022-12-27T20:08:20.999797Z",
     "iopub.status.busy": "2022-12-27T20:08:20.998718Z",
     "iopub.status.idle": "2022-12-27T20:08:22.192673Z",
     "shell.execute_reply": "2022-12-27T20:08:22.192251Z"
    }
   },
   "outputs": [
    {
     "name": "stderr",
     "output_type": "stream",
     "text": [
      "WARNING:jax._src.lib.xla_bridge:No GPU/TPU found, falling back to CPU. (Set TF_CPP_MIN_LOG_LEVEL=0 and rerun for more info.)\n"
     ]
    },
    {
     "name": "stderr",
     "output_type": "stream",
     "text": [
      "/home/simon/miniforge3/envs/chain_control/lib/python3.9/site-packages/tqdm/auto.py:22: TqdmWarning: IProgress not found. Please update jupyter and ipywidgets. See https://ipywidgets.readthedocs.io/en/stable/user_install.html\n",
      "  from .autonotebook import tqdm as notebook_tqdm\n"
     ]
    }
   ],
   "source": [
    "from cc.env.collect import (\n",
    "    collect,\n",
    "    collect_exhaust_source,\n",
    "    sample_feedforward_and_collect,\n",
    "    sample_feedforward_collect_and_make_source,\n",
    "    concat_samples\n",
    ")\n",
    "from cc import save, load \n",
    "from cc.env import make_env\n",
    "from cc.env.wrappers import AddRefSignalRewardFnWrapper\n",
    "import matplotlib.pyplot as plt \n",
    "from cc.env.sample_envs import TWO_SEGMENT_V1"
   ]
  },
  {
   "cell_type": "code",
   "execution_count": 2,
   "metadata": {
    "execution": {
     "iopub.execute_input": "2022-12-27T20:08:22.194998Z",
     "iopub.status.busy": "2022-12-27T20:08:22.194644Z",
     "iopub.status.idle": "2022-12-27T20:08:22.285051Z",
     "shell.execute_reply": "2022-12-27T20:08:22.284501Z"
    }
   },
   "outputs": [],
   "source": [
    "time_limit=5.0 # s\n",
    "control_timestep=0.01 # s \n",
    "\n",
    "env = make_env(\n",
    "    TWO_SEGMENT_V1, \n",
    "    random=1, # the initial condition might be randomized; fixes the seed \n",
    "    control_timestep=control_timestep, # the control rate, here 100 Hz \n",
    "    time_limit=time_limit, # the upper time limit; after 5 seconds the environment is done\n",
    "    delay=0 # whether or not the action is delayed before the environment sees it \n",
    "    )"
   ]
  },
  {
   "cell_type": "code",
   "execution_count": 3,
   "metadata": {
    "execution": {
     "iopub.execute_input": "2022-12-27T20:08:22.286947Z",
     "iopub.status.busy": "2022-12-27T20:08:22.286792Z",
     "iopub.status.idle": "2022-12-27T20:08:22.289019Z",
     "shell.execute_reply": "2022-12-27T20:08:22.288653Z"
    }
   },
   "outputs": [],
   "source": [
    "ts = env.ts"
   ]
  },
  {
   "cell_type": "markdown",
   "metadata": {},
   "source": [
    "##### Therefore the length of an episode trajectory will be"
   ]
  },
  {
   "cell_type": "code",
   "execution_count": 4,
   "metadata": {
    "execution": {
     "iopub.execute_input": "2022-12-27T20:08:22.290596Z",
     "iopub.status.busy": "2022-12-27T20:08:22.290471Z",
     "iopub.status.idle": "2022-12-27T20:08:22.295369Z",
     "shell.execute_reply": "2022-12-27T20:08:22.294964Z"
    }
   },
   "outputs": [
    {
     "data": {
      "text/plain": [
       "501"
      ]
     },
     "execution_count": 4,
     "metadata": {},
     "output_type": "execute_result"
    }
   ],
   "source": [
    "N = len(ts)+1 # +1 for the initial state (no action performed yet)\n",
    "N"
   ]
  },
  {
   "cell_type": "markdown",
   "metadata": {},
   "source": [
    "#### And we apply inputs at those timesteps"
   ]
  },
  {
   "cell_type": "code",
   "execution_count": 5,
   "metadata": {
    "execution": {
     "iopub.execute_input": "2022-12-27T20:08:22.296967Z",
     "iopub.status.busy": "2022-12-27T20:08:22.296828Z",
     "iopub.status.idle": "2022-12-27T20:08:22.299514Z",
     "shell.execute_reply": "2022-12-27T20:08:22.299227Z"
    }
   },
   "outputs": [
    {
     "data": {
      "text/plain": [
       "array([0.  , 0.01, 0.02, 0.03, 0.04, 0.05, 0.06, 0.07, 0.08, 0.09, 0.1 ,\n",
       "       0.11, 0.12, 0.13, 0.14, 0.15, 0.16, 0.17, 0.18, 0.19])"
      ]
     },
     "execution_count": 5,
     "metadata": {},
     "output_type": "execute_result"
    }
   ],
   "source": [
    "ts[:20]"
   ]
  },
  {
   "cell_type": "markdown",
   "metadata": {},
   "source": [
    "#### The input to the system and observation from the system is of the form"
   ]
  },
  {
   "cell_type": "code",
   "execution_count": 6,
   "metadata": {
    "execution": {
     "iopub.execute_input": "2022-12-27T20:08:22.301200Z",
     "iopub.status.busy": "2022-12-27T20:08:22.301060Z",
     "iopub.status.idle": "2022-12-27T20:08:22.304161Z",
     "shell.execute_reply": "2022-12-27T20:08:22.303770Z"
    }
   },
   "outputs": [
    {
     "data": {
      "text/plain": [
       "BoundedArray(shape=(1,), dtype=dtype('float32'), name=None, minimum=[-1.e+10], maximum=[1.e+10])"
      ]
     },
     "execution_count": 6,
     "metadata": {},
     "output_type": "execute_result"
    }
   ],
   "source": [
    "env.action_spec()"
   ]
  },
  {
   "cell_type": "code",
   "execution_count": 7,
   "metadata": {
    "execution": {
     "iopub.execute_input": "2022-12-27T20:08:22.305654Z",
     "iopub.status.busy": "2022-12-27T20:08:22.305508Z",
     "iopub.status.idle": "2022-12-27T20:08:22.308231Z",
     "shell.execute_reply": "2022-12-27T20:08:22.307927Z"
    }
   },
   "outputs": [
    {
     "data": {
      "text/plain": [
       "OrderedDict([('xpos_of_segment_end',\n",
       "              Array(shape=(1,), dtype=dtype('float32'), name='xpos_of_segment_end'))])"
      ]
     },
     "execution_count": 7,
     "metadata": {},
     "output_type": "execute_result"
    }
   ],
   "source": [
    "env.observation_spec()"
   ]
  },
  {
   "cell_type": "code",
   "execution_count": 8,
   "metadata": {
    "execution": {
     "iopub.execute_input": "2022-12-27T20:08:22.309726Z",
     "iopub.status.busy": "2022-12-27T20:08:22.309586Z",
     "iopub.status.idle": "2022-12-27T20:08:22.312541Z",
     "shell.execute_reply": "2022-12-27T20:08:22.312240Z"
    }
   },
   "outputs": [
    {
     "data": {
      "text/plain": [
       "TimeStep(step_type=<StepType.FIRST: 0>, reward=None, discount=None, observation=OrderedDict([('xpos_of_segment_end', array([2.5717583e-16], dtype=float32))]))"
      ]
     },
     "execution_count": 8,
     "metadata": {},
     "output_type": "execute_result"
    }
   ],
   "source": [
    "env.step([0.1])"
   ]
  },
  {
   "cell_type": "code",
   "execution_count": 9,
   "metadata": {
    "execution": {
     "iopub.execute_input": "2022-12-27T20:08:22.313934Z",
     "iopub.status.busy": "2022-12-27T20:08:22.313797Z",
     "iopub.status.idle": "2022-12-27T20:08:22.316452Z",
     "shell.execute_reply": "2022-12-27T20:08:22.316148Z"
    }
   },
   "outputs": [
    {
     "data": {
      "text/plain": [
       "TimeStep(step_type=<StepType.FIRST: 0>, reward=None, discount=None, observation=OrderedDict([('xpos_of_segment_end', array([2.5717583e-16], dtype=float32))]))"
      ]
     },
     "execution_count": 9,
     "metadata": {},
     "output_type": "execute_result"
    }
   ],
   "source": [
    "env.reset()"
   ]
  },
  {
   "cell_type": "markdown",
   "metadata": {},
   "source": [
    "##### Let's collect some data from the environment"
   ]
  },
  {
   "cell_type": "code",
   "execution_count": 10,
   "metadata": {
    "execution": {
     "iopub.execute_input": "2022-12-27T20:08:22.318032Z",
     "iopub.status.busy": "2022-12-27T20:08:22.317787Z",
     "iopub.status.idle": "2022-12-27T20:08:23.895184Z",
     "shell.execute_reply": "2022-12-27T20:08:23.894711Z"
    }
   },
   "outputs": [],
   "source": [
    "train_sample = sample_feedforward_and_collect(\n",
    "    env, \n",
    "    seeds_gp=[0,1,2], # this uses a gaussian process to draw some fixed action/input trajectories \n",
    "                        # that we then can apply to the system and record the output\n",
    "    seeds_cos=[2,4] # this uses a cosine-wave with a frequency of 2 and 4; really this shouldn't \n",
    "                        # be called seed \n",
    "    )"
   ]
  },
  {
   "cell_type": "code",
   "execution_count": 11,
   "metadata": {
    "execution": {
     "iopub.execute_input": "2022-12-27T20:08:23.897693Z",
     "iopub.status.busy": "2022-12-27T20:08:23.897557Z",
     "iopub.status.idle": "2022-12-27T20:08:23.900608Z",
     "shell.execute_reply": "2022-12-27T20:08:23.900209Z"
    }
   },
   "outputs": [
    {
     "data": {
      "text/plain": [
       "cc.env.buffer.replay_element_sample.ReplaySample"
      ]
     },
     "execution_count": 11,
     "metadata": {},
     "output_type": "execute_result"
    }
   ],
   "source": [
    "type(train_sample)"
   ]
  },
  {
   "cell_type": "code",
   "execution_count": 12,
   "metadata": {
    "execution": {
     "iopub.execute_input": "2022-12-27T20:08:23.902107Z",
     "iopub.status.busy": "2022-12-27T20:08:23.901995Z",
     "iopub.status.idle": "2022-12-27T20:08:23.904722Z",
     "shell.execute_reply": "2022-12-27T20:08:23.904414Z"
    }
   },
   "outputs": [
    {
     "data": {
      "text/plain": [
       "5"
      ]
     },
     "execution_count": 12,
     "metadata": {},
     "output_type": "execute_result"
    }
   ],
   "source": [
    "train_sample.bs"
   ]
  },
  {
   "cell_type": "code",
   "execution_count": 13,
   "metadata": {
    "execution": {
     "iopub.execute_input": "2022-12-27T20:08:23.906239Z",
     "iopub.status.busy": "2022-12-27T20:08:23.905993Z",
     "iopub.status.idle": "2022-12-27T20:08:23.908344Z",
     "shell.execute_reply": "2022-12-27T20:08:23.908041Z"
    }
   },
   "outputs": [
    {
     "data": {
      "text/plain": [
       "(5, 500, 1)"
      ]
     },
     "execution_count": 13,
     "metadata": {},
     "output_type": "execute_result"
    }
   ],
   "source": [
    "train_sample.action.shape"
   ]
  },
  {
   "cell_type": "code",
   "execution_count": 14,
   "metadata": {
    "execution": {
     "iopub.execute_input": "2022-12-27T20:08:23.909678Z",
     "iopub.status.busy": "2022-12-27T20:08:23.909513Z",
     "iopub.status.idle": "2022-12-27T20:08:23.911849Z",
     "shell.execute_reply": "2022-12-27T20:08:23.911539Z"
    }
   },
   "outputs": [
    {
     "data": {
      "text/plain": [
       "(5, 501, 1)"
      ]
     },
     "execution_count": 14,
     "metadata": {},
     "output_type": "execute_result"
    }
   ],
   "source": [
    "train_sample.obs[\"xpos_of_segment_end\"].shape"
   ]
  },
  {
   "cell_type": "code",
   "execution_count": 15,
   "metadata": {
    "execution": {
     "iopub.execute_input": "2022-12-27T20:08:23.913377Z",
     "iopub.status.busy": "2022-12-27T20:08:23.913148Z",
     "iopub.status.idle": "2022-12-27T20:08:24.022848Z",
     "shell.execute_reply": "2022-12-27T20:08:24.022366Z"
    }
   },
   "outputs": [
    {
     "data": {
      "text/plain": [
       "Text(0, 0.5, 'Motor input')"
      ]
     },
     "execution_count": 15,
     "metadata": {},
     "output_type": "execute_result"
    },
    {
     "data": {
      "image/png": "[encoded data removed]",
      "text/plain": [
       "<Figure size 640x480 with 1 Axes>"
      ]
     },
     "metadata": {},
     "output_type": "display_data"
    }
   ],
   "source": [
    "for idx in range(train_sample.bs):\n",
    "    plt.plot(train_sample.action[idx])\n",
    "plt.ylabel(\"Motor input\")"
   ]
  },
  {
   "cell_type": "code",
   "execution_count": 16,
   "metadata": {
    "execution": {
     "iopub.execute_input": "2022-12-27T20:08:24.024677Z",
     "iopub.status.busy": "2022-12-27T20:08:24.024498Z",
     "iopub.status.idle": "2022-12-27T20:08:24.108570Z",
     "shell.execute_reply": "2022-12-27T20:08:24.108177Z"
    }
   },
   "outputs": [
    {
     "data": {
      "text/plain": [
       "Text(0, 0.5, 'X-Position')"
      ]
     },
     "execution_count": 16,
     "metadata": {},
     "output_type": "execute_result"
    },
    {
     "data": {
      "image/png": "[encoded data removed]",
      "text/plain": [
       "<Figure size 640x480 with 1 Axes>"
      ]
     },
     "metadata": {},
     "output_type": "display_data"
    }
   ],
   "source": [
    "for idx in range(train_sample.bs):\n",
    "    plt.plot(train_sample.obs[\"xpos_of_segment_end\"][idx])\n",
    "plt.ylabel(\"X-Position\")"
   ]
  },
  {
   "cell_type": "code",
   "execution_count": 17,
   "metadata": {
    "execution": {
     "iopub.execute_input": "2022-12-27T20:08:24.110120Z",
     "iopub.status.busy": "2022-12-27T20:08:24.109983Z",
     "iopub.status.idle": "2022-12-27T20:08:24.113002Z",
     "shell.execute_reply": "2022-12-27T20:08:24.112678Z"
    }
   },
   "outputs": [
    {
     "data": {
      "text/plain": [
       "array([[0.],\n",
       "       [0.],\n",
       "       [0.],\n",
       "       [0.],\n",
       "       [0.],\n",
       "       [0.],\n",
       "       [0.],\n",
       "       [0.],\n",
       "       [0.],\n",
       "       [0.]], dtype=float32)"
      ]
     },
     "execution_count": 17,
     "metadata": {},
     "output_type": "execute_result"
    }
   ],
   "source": [
    "train_sample.rew[0,:10]"
   ]
  },
  {
   "cell_type": "markdown",
   "metadata": {},
   "source": [
    "Notice how there is no reward, how could there be? \n",
    "\n",
    "We have to add \n",
    "- first, create some reference output that we want to track\n",
    "- second, add the reference to the environment and specify a reward-function"
   ]
  },
  {
   "cell_type": "markdown",
   "metadata": {},
   "source": [
    "Let's now create an arbitrary smooth input-trajectory, record the observation of that input as reference and store it "
   ]
  },
  {
   "cell_type": "code",
   "execution_count": 18,
   "metadata": {
    "execution": {
     "iopub.execute_input": "2022-12-27T20:08:24.114630Z",
     "iopub.status.busy": "2022-12-27T20:08:24.114327Z",
     "iopub.status.idle": "2022-12-27T20:08:24.784456Z",
     "shell.execute_reply": "2022-12-27T20:08:24.783889Z"
    }
   },
   "outputs": [],
   "source": [
    "reference_source, replay_sample, _ = sample_feedforward_collect_and_make_source(env, seeds = [0,17])\n",
    "# we don't need the replay_sample anymore\n",
    "del replay_sample"
   ]
  },
  {
   "cell_type": "code",
   "execution_count": 19,
   "metadata": {
    "execution": {
     "iopub.execute_input": "2022-12-27T20:08:24.786369Z",
     "iopub.status.busy": "2022-12-27T20:08:24.786233Z",
     "iopub.status.idle": "2022-12-27T20:08:24.788845Z",
     "shell.execute_reply": "2022-12-27T20:08:24.788420Z"
    }
   },
   "outputs": [],
   "source": [
    "env_w_rew = AddRefSignalRewardFnWrapper(env, reference_source)"
   ]
  },
  {
   "cell_type": "markdown",
   "metadata": {},
   "source": [
    "Now, the observation is the reference and the actual observation"
   ]
  },
  {
   "cell_type": "code",
   "execution_count": 20,
   "metadata": {
    "execution": {
     "iopub.execute_input": "2022-12-27T20:08:24.790550Z",
     "iopub.status.busy": "2022-12-27T20:08:24.790446Z",
     "iopub.status.idle": "2022-12-27T20:08:24.817356Z",
     "shell.execute_reply": "2022-12-27T20:08:24.817000Z"
    }
   },
   "outputs": [
    {
     "data": {
      "text/plain": [
       "OrderedDict([('obs',\n",
       "              OrderedDict([('xpos_of_segment_end',\n",
       "                            Array(shape=(1,), dtype=dtype('float32'), name='xpos_of_segment_end'))])),\n",
       "             ('ref',\n",
       "              OrderedDict([('xpos_of_segment_end',\n",
       "                            Array(shape=(1,), dtype=dtype('float32'), name='xpos_of_segment_end'))]))])"
      ]
     },
     "execution_count": 20,
     "metadata": {},
     "output_type": "execute_result"
    }
   ],
   "source": [
    "env_w_rew.observation_spec()"
   ]
  },
  {
   "cell_type": "markdown",
   "metadata": {},
   "source": [
    "And the environment now has some reward"
   ]
  },
  {
   "cell_type": "code",
   "execution_count": 21,
   "metadata": {
    "execution": {
     "iopub.execute_input": "2022-12-27T20:08:24.819280Z",
     "iopub.status.busy": "2022-12-27T20:08:24.819154Z",
     "iopub.status.idle": "2022-12-27T20:08:24.851923Z",
     "shell.execute_reply": "2022-12-27T20:08:24.851546Z"
    }
   },
   "outputs": [
    {
     "data": {
      "text/plain": [
       "DeviceArray(-1.714589e-10, dtype=float32)"
      ]
     },
     "execution_count": 21,
     "metadata": {},
     "output_type": "execute_result"
    }
   ],
   "source": [
    "env_w_rew.step([0.1]).reward"
   ]
  },
  {
   "cell_type": "code",
   "execution_count": 22,
   "metadata": {
    "execution": {
     "iopub.execute_input": "2022-12-27T20:08:24.853817Z",
     "iopub.status.busy": "2022-12-27T20:08:24.853691Z",
     "iopub.status.idle": "2022-12-27T20:08:24.857776Z",
     "shell.execute_reply": "2022-12-27T20:08:24.857452Z"
    }
   },
   "outputs": [
    {
     "data": {
      "text/plain": [
       "DeviceArray(-8.808776e-10, dtype=float32)"
      ]
     },
     "execution_count": 22,
     "metadata": {},
     "output_type": "execute_result"
    }
   ],
   "source": [
    "env_w_rew.step([0.1]).reward"
   ]
  },
  {
   "cell_type": "markdown",
   "metadata": {},
   "source": [
    "Remember, how our source contains *2* trajectories. So, which one are we currently \"seeing\" in this environment in the observation"
   ]
  },
  {
   "cell_type": "code",
   "execution_count": 23,
   "metadata": {
    "execution": {
     "iopub.execute_input": "2022-12-27T20:08:24.859507Z",
     "iopub.status.busy": "2022-12-27T20:08:24.859381Z",
     "iopub.status.idle": "2022-12-27T20:08:24.862133Z",
     "shell.execute_reply": "2022-12-27T20:08:24.861820Z"
    }
   },
   "outputs": [
    {
     "data": {
      "text/plain": [
       "0"
      ]
     },
     "execution_count": 23,
     "metadata": {},
     "output_type": "execute_result"
    }
   ],
   "source": [
    "reference_source._i_actor"
   ]
  },
  {
   "cell_type": "code",
   "execution_count": 24,
   "metadata": {
    "execution": {
     "iopub.execute_input": "2022-12-27T20:08:24.863572Z",
     "iopub.status.busy": "2022-12-27T20:08:24.863356Z",
     "iopub.status.idle": "2022-12-27T20:08:24.867405Z",
     "shell.execute_reply": "2022-12-27T20:08:24.867094Z"
    }
   },
   "outputs": [
    {
     "data": {
      "text/plain": [
       "OrderedDict([('xpos_of_segment_end',\n",
       "              DeviceArray([-1.0613264e-05], dtype=float32))])"
      ]
     },
     "execution_count": 24,
     "metadata": {},
     "output_type": "execute_result"
    }
   ],
   "source": [
    "env_w_rew.reset()\n",
    "env_w_rew.step([0.1]).observation[\"ref\"]"
   ]
  },
  {
   "cell_type": "code",
   "execution_count": 25,
   "metadata": {
    "execution": {
     "iopub.execute_input": "2022-12-27T20:08:24.868772Z",
     "iopub.status.busy": "2022-12-27T20:08:24.868671Z",
     "iopub.status.idle": "2022-12-27T20:08:24.871424Z",
     "shell.execute_reply": "2022-12-27T20:08:24.871108Z"
    }
   },
   "outputs": [
    {
     "data": {
      "text/plain": [
       "1"
      ]
     },
     "execution_count": 25,
     "metadata": {},
     "output_type": "execute_result"
    }
   ],
   "source": [
    "# let's change the reference to the second one \n",
    "reference_source.change_reference_of_actor(1)\n",
    "reference_source._i_actor"
   ]
  },
  {
   "cell_type": "code",
   "execution_count": 26,
   "metadata": {
    "execution": {
     "iopub.execute_input": "2022-12-27T20:08:24.873085Z",
     "iopub.status.busy": "2022-12-27T20:08:24.872904Z",
     "iopub.status.idle": "2022-12-27T20:08:24.876732Z",
     "shell.execute_reply": "2022-12-27T20:08:24.876442Z"
    }
   },
   "outputs": [
    {
     "data": {
      "text/plain": [
       "OrderedDict([('xpos_of_segment_end',\n",
       "              DeviceArray([-4.4142257e-06], dtype=float32))])"
      ]
     },
     "execution_count": 26,
     "metadata": {},
     "output_type": "execute_result"
    }
   ],
   "source": [
    "# now it is different\n",
    "env_w_rew.reset()\n",
    "env_w_rew.step([0.1]).observation[\"ref\"]"
   ]
  },
  {
   "cell_type": "markdown",
   "metadata": {},
   "source": [
    "### Now we have all the components to \n",
    "- get Training/Testing-data for the training of a *model* using `sample_feedforward_and_collect`\n",
    "- get suitable Reference Trajectories using `sample_feedforward_collect_and_make_source` and add this reference to the environment"
   ]
  },
  {
   "cell_type": "markdown",
   "metadata": {},
   "source": [
    "##### Finally, you can also save/load `source` and `train_sample` using the functions `save` and `load`"
   ]
  },
  {
   "cell_type": "code",
   "execution_count": 27,
   "metadata": {
    "execution": {
     "iopub.execute_input": "2022-12-27T20:08:24.878313Z",
     "iopub.status.busy": "2022-12-27T20:08:24.878137Z",
     "iopub.status.idle": "2022-12-27T20:08:24.881935Z",
     "shell.execute_reply": "2022-12-27T20:08:24.881667Z"
    }
   },
   "outputs": [
    {
     "data": {
      "text/plain": [
       "ReplaySample(obs=OrderedDict([('xpos_of_segment_end', array([[[ 2.5717583e-16],\n",
       "        [-1.0613264e-05],\n",
       "        [-2.4071805e-05],\n",
       "        ...,\n",
       "        [-3.5228093e+00],\n",
       "        [-3.5237126e+00],\n",
       "        [-3.5246711e+00]],\n",
       "\n",
       "       [[ 2.5717583e-16],\n",
       "        [ 1.1885689e-05],\n",
       "        [ 2.6861439e-05],\n",
       "        ...,\n",
       "        [ 4.3070211e+00],\n",
       "        [ 4.3101530e+00],\n",
       "        [ 4.3130393e+00]],\n",
       "\n",
       "       [[ 2.5717583e-16],\n",
       "        [ 6.3003176e-06],\n",
       "        [ 1.4143807e-05],\n",
       "        ...,\n",
       "        [-1.0070179e+00],\n",
       "        [-1.0053129e+00],\n",
       "        [-1.0034502e+00]],\n",
       "\n",
       "       [[ 2.5717583e-16],\n",
       "        [ 2.3779885e-05],\n",
       "        [ 5.3746033e-05],\n",
       "        ...,\n",
       "        [-2.2125307e-01],\n",
       "        [-2.1580772e-01],\n",
       "        [-2.0951909e-01]],\n",
       "\n",
       "       [[ 2.5717583e-16],\n",
       "        [ 2.7559308e-05],\n",
       "        [ 6.2279621e-05],\n",
       "        ...,\n",
       "        [-8.7528086e-01],\n",
       "        [-8.6937529e-01],\n",
       "        [-8.6055392e-01]]], dtype=float32))]), action=array([[[-0.45423457],\n",
       "        [-0.4582379 ],\n",
       "        [-0.4620383 ],\n",
       "        ...,\n",
       "        [ 0.07096183],\n",
       "        [ 0.06843635],\n",
       "        [ 0.06598589]],\n",
       "\n",
       "       [[ 0.51742136],\n",
       "        [ 0.5172198 ],\n",
       "        [ 0.51692516],\n",
       "        ...,\n",
       "        [-0.48641866],\n",
       "        [-0.4906162 ],\n",
       "        [-0.4944904 ]],\n",
       "\n",
       "       [[ 0.2586515 ],\n",
       "        [ 0.25450197],\n",
       "        [ 0.25037012],\n",
       "        ...,\n",
       "        [ 0.3740825 ],\n",
       "        [ 0.36907881],\n",
       "        [ 0.3639703 ]],\n",
       "\n",
       "       [[ 1.4142135 ],\n",
       "        [ 1.4137652 ],\n",
       "        [ 1.4124202 ],\n",
       "        ...,\n",
       "        [ 1.4124202 ],\n",
       "        [ 1.4137652 ],\n",
       "        [ 1.4142135 ]],\n",
       "\n",
       "       [[ 2.        ],\n",
       "        [ 1.9974638 ],\n",
       "        [ 1.9898616 ],\n",
       "        ...,\n",
       "        [ 1.9898616 ],\n",
       "        [ 1.9974638 ],\n",
       "        [ 2.        ]]], dtype=float32), rew=array([[[0.],\n",
       "        [0.],\n",
       "        [0.],\n",
       "        ...,\n",
       "        [0.],\n",
       "        [0.],\n",
       "        [0.]],\n",
       "\n",
       "       [[0.],\n",
       "        [0.],\n",
       "        [0.],\n",
       "        ...,\n",
       "        [0.],\n",
       "        [0.],\n",
       "        [0.]],\n",
       "\n",
       "       [[0.],\n",
       "        [0.],\n",
       "        [0.],\n",
       "        ...,\n",
       "        [0.],\n",
       "        [0.],\n",
       "        [0.]],\n",
       "\n",
       "       [[0.],\n",
       "        [0.],\n",
       "        [0.],\n",
       "        ...,\n",
       "        [0.],\n",
       "        [0.],\n",
       "        [0.]],\n",
       "\n",
       "       [[0.],\n",
       "        [0.],\n",
       "        [0.],\n",
       "        ...,\n",
       "        [0.],\n",
       "        [0.],\n",
       "        [0.]]], dtype=float32), done=array([[[0.],\n",
       "        [0.],\n",
       "        [0.],\n",
       "        ...,\n",
       "        [0.],\n",
       "        [0.],\n",
       "        [1.]],\n",
       "\n",
       "       [[0.],\n",
       "        [0.],\n",
       "        [0.],\n",
       "        ...,\n",
       "        [0.],\n",
       "        [0.],\n",
       "        [1.]],\n",
       "\n",
       "       [[0.],\n",
       "        [0.],\n",
       "        [0.],\n",
       "        ...,\n",
       "        [0.],\n",
       "        [0.],\n",
       "        [1.]],\n",
       "\n",
       "       [[0.],\n",
       "        [0.],\n",
       "        [0.],\n",
       "        ...,\n",
       "        [0.],\n",
       "        [0.],\n",
       "        [1.]],\n",
       "\n",
       "       [[0.],\n",
       "        [0.],\n",
       "        [0.],\n",
       "        ...,\n",
       "        [0.],\n",
       "        [0.],\n",
       "        [1.]]], dtype=float32), extras={})"
      ]
     },
     "execution_count": 27,
     "metadata": {},
     "output_type": "execute_result"
    }
   ],
   "source": [
    "save(train_sample, \"train_sample.pkl\")\n",
    "load(\"train_sample.pkl\")"
   ]
  },
  {
   "cell_type": "code",
   "execution_count": null,
   "metadata": {},
   "outputs": [],
   "source": []
  }
 ],
 "metadata": {
  "kernelspec": {
   "display_name": "aibe",
   "language": "python",
   "name": "python3"
  },
  "language_info": {
   "codemirror_mode": {
    "name": "ipython",
    "version": 3
   },
   "file_extension": ".py",
   "mimetype": "text/x-python",
   "name": "python",
   "nbconvert_exporter": "python",
   "pygments_lexer": "ipython3",
   "version": "3.9.13"
  },
  "vscode": {
   "interpreter": {
    "hash": "8ba084acad79e0f91d5a5588d305de266bf23ec298932ec3a210886ceb659ff1"
   }
  }
 },
 "nbformat": 4,
 "nbformat_minor": 2
}
