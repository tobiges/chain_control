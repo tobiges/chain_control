{
 "cells": [
  {
   "cell_type": "code",
   "execution_count": 1,
   "metadata": {
    "execution": {
     "iopub.execute_input": "2022-11-25T22:51:12.837824Z",
     "iopub.status.busy": "2022-11-25T22:51:12.837190Z",
     "iopub.status.idle": "2022-11-25T22:51:13.848678Z",
     "shell.execute_reply": "2022-11-25T22:51:13.848298Z"
    }
   },
   "outputs": [
    {
     "name": "stderr",
     "output_type": "stream",
     "text": [
      "/data/ba54womo/miniforge3/lib/python3.10/site-packages/glfw/__init__.py:912: GLFWError: (65544) b'X11: The DISPLAY environment variable is missing'\n",
      "  warnings.warn(message, GLFWError)\n",
      "WARNING:jax._src.lib.xla_bridge:No GPU/TPU found, falling back to CPU. (Set TF_CPP_MIN_LOG_LEVEL=0 and rerun for more info.)\n",
      "/data/ba54womo/miniforge3/lib/python3.10/site-packages/tqdm/auto.py:22: TqdmWarning: IProgress not found. Please update jupyter and ipywidgets. See https://ipywidgets.readthedocs.io/en/stable/user_install.html\n",
      "  from .autonotebook import tqdm as notebook_tqdm\n"
     ]
    }
   ],
   "source": [
    "from cc.env.collect import sample_feedforward_and_collect\n",
    "from cc.env import make_env\n",
    "from cc.examples.neural_ode_model_compact_example import make_neural_ode_model\n",
    "from cc.train import (\n",
    "    ModelControllerTrainer, TrainingOptionsModel, \n",
    "    EvaluationMetrices, Tracker, make_dataloader, DictLogger,\n",
    "    Regularisation, SupervisedDataset\n",
    ")\n",
    "import jax.random as jrand\n",
    "from cc.utils import rmse, l2_norm\n",
    "import optax\n",
    "import jax.numpy as jnp"
   ]
  },
  {
   "cell_type": "code",
   "execution_count": 2,
   "metadata": {
    "execution": {
     "iopub.execute_input": "2022-11-25T22:51:13.851008Z",
     "iopub.status.busy": "2022-11-25T22:51:13.850697Z",
     "iopub.status.idle": "2022-11-25T22:51:13.998192Z",
     "shell.execute_reply": "2022-11-25T22:51:13.997714Z"
    }
   },
   "outputs": [],
   "source": [
    "time_limit = 10.0\n",
    "control_timestep = 0.01\n",
    "\n",
    "env = make_env(\"two_segments_v2\", time_limit=time_limit, control_timestep=control_timestep, random=1)"
   ]
  },
  {
   "cell_type": "code",
   "execution_count": 3,
   "metadata": {
    "execution": {
     "iopub.execute_input": "2022-11-25T22:51:14.000293Z",
     "iopub.status.busy": "2022-11-25T22:51:14.000097Z",
     "iopub.status.idle": "2022-11-25T22:51:43.451734Z",
     "shell.execute_reply": "2022-11-25T22:51:43.451219Z"
    }
   },
   "outputs": [],
   "source": [
    "sample_train = sample_feedforward_and_collect(\n",
    "    env,\n",
    "    #seeds_gp=[0,1,2,3,4,5,6,7,8,9,10,11],\n",
    "    #seeds_cos=[1,2,3,4,5,6,7,8,9,10,12,14]\n",
    "    seeds_gp=list(range(0, 30)),\n",
    "    seeds_cos=list(range(1,31))\n",
    ")\n",
    "\n",
    "sample_val = sample_feedforward_and_collect(\n",
    "    env, \n",
    "    seeds_gp=[15, 16, 17, 18],\n",
    "    seeds_cos=[2.5, 5.0, 7.5, 10.0]\n",
    ")"
   ]
  },
  {
   "cell_type": "code",
   "execution_count": 4,
   "metadata": {
    "execution": {
     "iopub.execute_input": "2022-11-25T22:51:43.453897Z",
     "iopub.status.busy": "2022-11-25T22:51:43.453726Z",
     "iopub.status.idle": "2022-11-25T22:51:43.742591Z",
     "shell.execute_reply": "2022-11-25T22:51:43.742049Z"
    }
   },
   "outputs": [],
   "source": [
    "model = make_neural_ode_model(\n",
    "    env.action_spec(),\n",
    "    env.observation_spec(),\n",
    "    env.control_timestep,\n",
    "    state_dim=100,\n",
    "    f_depth=0, \n",
    "    u_transform=jnp.arctan\n",
    ")"
   ]
  },
  {
   "cell_type": "code",
   "execution_count": 5,
   "metadata": {
    "execution": {
     "iopub.execute_input": "2022-11-25T22:51:43.744976Z",
     "iopub.status.busy": "2022-11-25T22:51:43.744665Z",
     "iopub.status.idle": "2022-11-25T22:51:43.920024Z",
     "shell.execute_reply": "2022-11-25T22:51:43.919556Z"
    }
   },
   "outputs": [],
   "source": [
    "model_train_dataloader = make_dataloader(\n",
    "    SupervisedDataset(sample_train.action, sample_train.obs), # <- (X, y)\n",
    "    jrand.PRNGKey(2,), \n",
    "    n_minibatches=4\n",
    ")\n",
    "\n",
    "optimizer = optax.adam(1e-3)\n",
    "\n",
    "regularisers = (\n",
    "    Regularisation(\n",
    "        prefactor = 0.5,\n",
    "        reduce_weights = lambda vector_of_params: {\"l2_norm\": l2_norm(vector_of_params)}\n",
    "    ),\n",
    ")\n",
    "\n",
    "metrices = (\n",
    "    EvaluationMetrices(\n",
    "        data = (sample_val.action, sample_val.obs), # <- (X, y)\n",
    "        metrices=(\n",
    "            lambda y, yhat: {\"val_rmse\": rmse(y, yhat)}, \n",
    "        )\n",
    "    ),\n",
    ")\n",
    "\n",
    "model_train_options = TrainingOptionsModel(\n",
    "    model_train_dataloader, \n",
    "    optimizer, \n",
    "    regularisers=regularisers,\n",
    "    metrices=metrices\n",
    ")\n",
    "\n",
    "model_trainer = ModelControllerTrainer(\n",
    "    model, \n",
    "    model_train_options=model_train_options,\n",
    "    loggers=[DictLogger()],\n",
    "    trackers=[Tracker(\"val_rmse\")]\n",
    ")"
   ]
  },
  {
   "cell_type": "code",
   "execution_count": 6,
   "metadata": {
    "execution": {
     "iopub.execute_input": "2022-11-25T22:51:43.921948Z",
     "iopub.status.busy": "2022-11-25T22:51:43.921778Z",
     "iopub.status.idle": "2022-11-25T22:54:00.238181Z",
     "shell.execute_reply": "2022-11-25T22:54:00.237772Z"
    }
   },
   "outputs": [
    {
     "name": "stderr",
     "output_type": "stream",
     "text": [
      "l2_norm:     3.6928 | train_loss:     2.0488 | train_mse:     0.2023 | val_rmse:     0.7071 | : 100%|██████████| 1000/1000 [12:19<00:00,  1.35it/s]\n"
     ]
    }
   ],
   "source": [
    "model_trainer.run(1000)"
   ]
  },
  {
   "cell_type": "code",
   "execution_count": 7,
   "metadata": {
    "execution": {
     "iopub.execute_input": "2022-11-25T22:54:00.240078Z",
     "iopub.status.busy": "2022-11-25T22:54:00.239936Z",
     "iopub.status.idle": "2022-11-25T22:54:00.245626Z",
     "shell.execute_reply": "2022-11-25T22:54:00.245276Z"
    }
   },
   "outputs": [
    {
     "data": {
      "text/plain": [
       "0.6855934"
      ]
     },
     "execution_count": 7,
     "metadata": {},
     "output_type": "execute_result"
    }
   ],
   "source": [
    "model_trainer.trackers[0].best_metric()"
   ]
  },
  {
   "cell_type": "code",
   "execution_count": 8,
   "metadata": {
    "execution": {
     "iopub.execute_input": "2022-11-25T22:54:00.247180Z",
     "iopub.status.busy": "2022-11-25T22:54:00.246999Z",
     "iopub.status.idle": "2022-11-25T22:54:00.249120Z",
     "shell.execute_reply": "2022-11-25T22:54:00.248790Z"
    }
   },
   "outputs": [],
   "source": [
    "fitted_model = model_trainer.trackers[0].best_model_or_controller()\n",
    "import equinox as eqx\n",
    "eqx.tree_serialise_leaves(\"good_env2_model2.eqx\", fitted_model)"
   ]
  },
  {
   "cell_type": "code",
   "execution_count": 9,
   "metadata": {
    "execution": {
     "iopub.execute_input": "2022-11-25T22:54:00.250581Z",
     "iopub.status.busy": "2022-11-25T22:54:00.250457Z",
     "iopub.status.idle": "2022-11-25T22:54:00.317428Z",
     "shell.execute_reply": "2022-11-25T22:54:00.317058Z"
    }
   },
   "outputs": [
    {
     "data": {
      "text/plain": [
       "OrderedDict([('xpos_of_segment_end',\n",
       "              DeviceArray([0.07054484], dtype=float32))])"
      ]
     },
     "execution_count": 9,
     "metadata": {},
     "output_type": "execute_result"
    }
   ],
   "source": [
    "import numpy as np\n",
    "import equinox as eqx\n",
    "\n",
    "action = np.array([0.2])\n",
    "# this returns a new model with an updated internal state\n",
    "# and of course the actual prediction of the observation\n",
    "fitted_model, predicted_obs = eqx.filter_jit(fitted_model.step)(action)\n",
    "predicted_obs"
   ]
  },
  {
   "cell_type": "code",
   "execution_count": 10,
   "metadata": {
    "execution": {
     "iopub.execute_input": "2022-11-25T22:54:00.319277Z",
     "iopub.status.busy": "2022-11-25T22:54:00.319088Z",
     "iopub.status.idle": "2022-11-25T22:54:00.450317Z",
     "shell.execute_reply": "2022-11-25T22:54:00.449860Z"
    }
   },
   "outputs": [
    {
     "data": {
      "text/plain": [
       "OrderedDict([('xpos_of_segment_end',\n",
       "              DeviceArray([0.07179761], dtype=float32))])"
      ]
     },
     "execution_count": 10,
     "metadata": {},
     "output_type": "execute_result"
    }
   ],
   "source": [
    "fitted_model, predicted_obs = fitted_model.step(action)\n",
    "predicted_obs"
   ]
  },
  {
   "cell_type": "code",
   "execution_count": 11,
   "metadata": {
    "execution": {
     "iopub.execute_input": "2022-11-25T22:54:00.452306Z",
     "iopub.status.busy": "2022-11-25T22:54:00.452096Z",
     "iopub.status.idle": "2022-11-25T22:54:00.456710Z",
     "shell.execute_reply": "2022-11-25T22:54:00.456379Z"
    }
   },
   "outputs": [
    {
     "data": {
      "text/plain": [
       "OrderedDict([('xpos_of_segment_end',\n",
       "              DeviceArray([0.07309448], dtype=float32))])"
      ]
     },
     "execution_count": 11,
     "metadata": {},
     "output_type": "execute_result"
    }
   ],
   "source": [
    "fitted_model, predicted_obs = fitted_model.step(action)\n",
    "predicted_obs"
   ]
  },
  {
   "cell_type": "code",
   "execution_count": 12,
   "metadata": {
    "execution": {
     "iopub.execute_input": "2022-11-25T22:54:00.458320Z",
     "iopub.status.busy": "2022-11-25T22:54:00.458159Z",
     "iopub.status.idle": "2022-11-25T22:54:00.462237Z",
     "shell.execute_reply": "2022-11-25T22:54:00.461921Z"
    }
   },
   "outputs": [
    {
     "data": {
      "text/plain": [
       "OrderedDict([('xpos_of_segment_end',\n",
       "              DeviceArray([0.07443583], dtype=float32))])"
      ]
     },
     "execution_count": 12,
     "metadata": {},
     "output_type": "execute_result"
    }
   ],
   "source": [
    "fitted_model, predicted_obs = fitted_model.step(action)\n",
    "predicted_obs"
   ]
  },
  {
   "cell_type": "markdown",
   "metadata": {},
   "source": [
    "Finally, you can also replace the `Mujoco` physics component in your environment with your model. \n",
    "\n",
    "This creates a new environment that looks exactly the same from outside."
   ]
  },
  {
   "cell_type": "code",
   "execution_count": 13,
   "metadata": {
    "execution": {
     "iopub.execute_input": "2022-11-25T22:54:00.481981Z",
     "iopub.status.busy": "2022-11-25T22:54:00.481726Z",
     "iopub.status.idle": "2022-11-25T22:54:00.485362Z",
     "shell.execute_reply": "2022-11-25T22:54:00.484897Z"
    }
   },
   "outputs": [],
   "source": [
    "from cc.env.wrappers import ReplacePhysicsByModelWrapper\n",
    "\n",
    "env_model = ReplacePhysicsByModelWrapper(env, fitted_model)"
   ]
  },
  {
   "cell_type": "code",
   "execution_count": 14,
   "metadata": {
    "execution": {
     "iopub.execute_input": "2022-11-25T22:54:00.487404Z",
     "iopub.status.busy": "2022-11-25T22:54:00.487217Z",
     "iopub.status.idle": "2022-11-25T22:54:00.490954Z",
     "shell.execute_reply": "2022-11-25T22:54:00.490641Z"
    }
   },
   "outputs": [
    {
     "data": {
      "text/plain": [
       "OrderedDict([('xpos_of_segment_end',\n",
       "              DeviceArray([0.06933579], dtype=float32))])"
      ]
     },
     "execution_count": 14,
     "metadata": {},
     "output_type": "execute_result"
    }
   ],
   "source": [
    "fitted_model.y0()"
   ]
  },
  {
   "cell_type": "code",
   "execution_count": 15,
   "metadata": {
    "execution": {
     "iopub.execute_input": "2022-11-25T22:54:00.492330Z",
     "iopub.status.busy": "2022-11-25T22:54:00.492185Z",
     "iopub.status.idle": "2022-11-25T22:54:00.495333Z",
     "shell.execute_reply": "2022-11-25T22:54:00.495007Z"
    }
   },
   "outputs": [
    {
     "data": {
      "text/plain": [
       "TimeStep(step_type=<StepType.FIRST: 0>, reward=None, discount=None, observation=OrderedDict([('xpos_of_segment_end', array([0.06933579], dtype=float32))]))"
      ]
     },
     "execution_count": 15,
     "metadata": {},
     "output_type": "execute_result"
    }
   ],
   "source": [
    "env_model.reset()"
   ]
  },
  {
   "cell_type": "code",
   "execution_count": 16,
   "metadata": {
    "execution": {
     "iopub.execute_input": "2022-11-25T22:54:00.496678Z",
     "iopub.status.busy": "2022-11-25T22:54:00.496541Z",
     "iopub.status.idle": "2022-11-25T22:54:00.499988Z",
     "shell.execute_reply": "2022-11-25T22:54:00.499700Z"
    }
   },
   "outputs": [
    {
     "data": {
      "text/plain": [
       "TimeStep(step_type=<StepType.MID: 1>, reward=array(0., dtype=float32), discount=0.0, observation=OrderedDict([('xpos_of_segment_end', array([0.07054484], dtype=float32))]))"
      ]
     },
     "execution_count": 16,
     "metadata": {},
     "output_type": "execute_result"
    }
   ],
   "source": [
    "env_model.step(action)"
   ]
  },
  {
   "cell_type": "code",
   "execution_count": 17,
   "metadata": {
    "execution": {
     "iopub.execute_input": "2022-11-25T22:54:00.501386Z",
     "iopub.status.busy": "2022-11-25T22:54:00.501204Z",
     "iopub.status.idle": "2022-11-25T22:54:00.504449Z",
     "shell.execute_reply": "2022-11-25T22:54:00.504181Z"
    }
   },
   "outputs": [
    {
     "data": {
      "text/plain": [
       "TimeStep(step_type=<StepType.MID: 1>, reward=array(0., dtype=float32), discount=0.0, observation=OrderedDict([('xpos_of_segment_end', array([0.07179761], dtype=float32))]))"
      ]
     },
     "execution_count": 17,
     "metadata": {},
     "output_type": "execute_result"
    }
   ],
   "source": [
    "env_model.step(action)"
   ]
  },
  {
   "cell_type": "markdown",
   "metadata": {},
   "source": [
    "Now that the model is an environment, we can also now use all of our `collect` technology"
   ]
  },
  {
   "cell_type": "code",
   "execution_count": 18,
   "metadata": {
    "execution": {
     "iopub.execute_input": "2022-11-25T22:54:00.505908Z",
     "iopub.status.busy": "2022-11-25T22:54:00.505752Z",
     "iopub.status.idle": "2022-11-25T22:54:01.816584Z",
     "shell.execute_reply": "2022-11-25T22:54:01.816194Z"
    }
   },
   "outputs": [
    {
     "ename": "TypeError",
     "evalue": "cannot unpack non-iterable ReplaySample object",
     "output_type": "error",
     "traceback": [
      "\u001b[0;31m---------------------------------------------------------------------------\u001b[0m",
      "\u001b[0;31mTypeError\u001b[0m                                 Traceback (most recent call last)",
      "Cell \u001b[0;32mIn [18], line 5\u001b[0m\n\u001b[1;32m      2\u001b[0m \u001b[39mfrom\u001b[39;00m \u001b[39mcc\u001b[39;00m\u001b[39m.\u001b[39;00m\u001b[39menv\u001b[39;00m\u001b[39m.\u001b[39;00m\u001b[39mcollect\u001b[39;00m \u001b[39mimport\u001b[39;00m collect\n\u001b[1;32m      4\u001b[0m controller \u001b[39m=\u001b[39m make_feedforward_controller(sample_train\u001b[39m.\u001b[39maction[\u001b[39m0\u001b[39m])\n\u001b[0;32m----> 5\u001b[0m pred_sample, _ \u001b[39m=\u001b[39m collect(env_model, controller)\n\u001b[1;32m      7\u001b[0m \u001b[39mimport\u001b[39;00m \u001b[39mmatplotlib\u001b[39;00m\u001b[39m.\u001b[39;00m\u001b[39mpyplot\u001b[39;00m \u001b[39mas\u001b[39;00m \u001b[39mplt\u001b[39;00m \n\u001b[1;32m      9\u001b[0m plt\u001b[39m.\u001b[39mplot(env\u001b[39m.\u001b[39mts, sample_train\u001b[39m.\u001b[39mobs[\u001b[39m\"\u001b[39m\u001b[39mxpos_of_segment_end\u001b[39m\u001b[39m\"\u001b[39m][\u001b[39m0\u001b[39m, :\u001b[39m-\u001b[39m\u001b[39m1\u001b[39m], label\u001b[39m=\u001b[39m\u001b[39m\"\u001b[39m\u001b[39mphysics-based\u001b[39m\u001b[39m\"\u001b[39m)\n",
      "\u001b[0;31mTypeError\u001b[0m: cannot unpack non-iterable ReplaySample object"
     ]
    }
   ],
   "source": [
    "from cc.examples.feedforward_controller import make_feedforward_controller\n",
    "from cc.env.collect import collect\n",
    "\n",
    "controller = make_feedforward_controller(sample_train.action[0])\n",
    "pred_sample, _ = collect(env_model, controller)\n",
    "\n",
    "import matplotlib.pyplot as plt \n",
    "\n",
    "plt.plot(env.ts, sample_train.obs[\"xpos_of_segment_end\"][0, :-1], label=\"physics-based\")\n",
    "plt.plot(env.ts, pred_sample.obs[\"xpos_of_segment_end\"][0, :-1], label = \"model-based\")\n",
    "plt.xlabel(\"time [s]\")\n",
    "plt.ylabel(\"x-position of segment end\")\n",
    "plt.legend()\n"
   ]
  },
  {
   "cell_type": "code",
   "execution_count": null,
   "metadata": {
    "execution": {
     "iopub.execute_input": "2022-11-25T22:54:01.819159Z",
     "iopub.status.busy": "2022-11-25T22:54:01.818859Z",
     "iopub.status.idle": "2022-11-25T22:54:01.822171Z",
     "shell.execute_reply": "2022-11-25T22:54:01.821733Z"
    }
   },
   "outputs": [],
   "source": [
    "# save model for usage in next notebook\n",
    "eqx.tree_serialise_leaves(\"model.eqx\", fitted_model)"
   ]
  },
  {
   "cell_type": "code",
   "execution_count": null,
   "metadata": {
    "execution": {
     "iopub.execute_input": "2022-11-25T22:54:01.824290Z",
     "iopub.status.busy": "2022-11-25T22:54:01.824100Z",
     "iopub.status.idle": "2022-11-25T22:54:01.830042Z",
     "shell.execute_reply": "2022-11-25T22:54:01.829500Z"
    }
   },
   "outputs": [],
   "source": [
    "# reload model\n",
    "del fitted_model\n",
    "fitted_model = eqx.tree_deserialise_leaves(\"model.eqx\", model) "
   ]
  },
  {
   "cell_type": "code",
   "execution_count": null,
   "metadata": {},
   "outputs": [],
   "source": []
  }
 ],
 "metadata": {
  "kernelspec": {
   "display_name": "Python 3.10.6 ('base': conda)",
   "language": "python",
   "name": "python3"
  },
  "language_info": {
   "codemirror_mode": {
    "name": "ipython",
    "version": 3
   },
   "file_extension": ".py",
   "mimetype": "text/x-python",
   "name": "python",
   "nbconvert_exporter": "python",
   "pygments_lexer": "ipython3",
   "version": "3.10.6 | packaged by conda-forge | (main, Aug 22 2022, 20:36:39) [GCC 10.4.0]"
  },
  "vscode": {
   "interpreter": {
    "hash": "9f732ea8516037f445d82ae14a0af0ee43f2ecec3f72ae2d1ac98ce9ad4e4b6a"
   }
  }
 },
 "nbformat": 4,
 "nbformat_minor": 2
}
