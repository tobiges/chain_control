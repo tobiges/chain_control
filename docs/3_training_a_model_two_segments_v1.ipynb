{
 "cells": [
  {
   "cell_type": "code",
   "execution_count": 1,
   "metadata": {},
   "outputs": [
    {
     "ename": "ImportError",
     "evalue": "libpython3.9.so.1.0: cannot open shared object file: No such file or directory",
     "output_type": "error",
     "traceback": [
      "\u001b[0;31m---------------------------------------------------------------------------\u001b[0m",
      "\u001b[0;31mImportError\u001b[0m                               Traceback (most recent call last)",
      "\u001b[1;32m/home/tobi/uni/aibe/chain_control/docs/3_training_a_model_two_segments_v1.ipynb Cell 1\u001b[0m in \u001b[0;36m<cell line: 1>\u001b[0;34m()\u001b[0m\n\u001b[0;32m----> <a href='vscode-notebook-cell://wsl%2Bubuntu/home/tobi/uni/aibe/chain_control/docs/3_training_a_model_two_segments_v1.ipynb#W0sdnNjb2RlLXJlbW90ZQ%3D%3D?line=0'>1</a>\u001b[0m \u001b[39mfrom\u001b[39;00m \u001b[39mcc\u001b[39;00m\u001b[39m.\u001b[39;00m\u001b[39mmodel\u001b[39;00m \u001b[39mimport\u001b[39;00m LinearModel, LinearModelOptions, NonlinearModelOptions, NonlinearModel\n\u001b[1;32m      <a href='vscode-notebook-cell://wsl%2Bubuntu/home/tobi/uni/aibe/chain_control/docs/3_training_a_model_two_segments_v1.ipynb#W0sdnNjb2RlLXJlbW90ZQ%3D%3D?line=1'>2</a>\u001b[0m \u001b[39mfrom\u001b[39;00m \u001b[39mcc\u001b[39;00m\u001b[39m.\u001b[39;00m\u001b[39mmodel\u001b[39;00m\u001b[39m.\u001b[39;00m\u001b[39meval_model\u001b[39;00m \u001b[39mimport\u001b[39;00m eval_model\n\u001b[1;32m      <a href='vscode-notebook-cell://wsl%2Bubuntu/home/tobi/uni/aibe/chain_control/docs/3_training_a_model_two_segments_v1.ipynb#W0sdnNjb2RlLXJlbW90ZQ%3D%3D?line=2'>3</a>\u001b[0m \u001b[39mfrom\u001b[39;00m \u001b[39mcc\u001b[39;00m\u001b[39m.\u001b[39;00m\u001b[39mcollect\u001b[39;00m \u001b[39mimport\u001b[39;00m collect_sample\n",
      "File \u001b[0;32m~/uni/aibe/chain_control/cc/model/__init__.py:1\u001b[0m, in \u001b[0;36m<module>\u001b[0;34m\u001b[0m\n\u001b[0;32m----> 1\u001b[0m \u001b[39mfrom\u001b[39;00m \u001b[39m.\u001b[39;00m\u001b[39mmodel\u001b[39;00m \u001b[39mimport\u001b[39;00m (\n\u001b[1;32m      2\u001b[0m     LinearModel,\n\u001b[1;32m      3\u001b[0m     NonlinearModel,\n\u001b[1;32m      4\u001b[0m     LinearModelOptions,\n\u001b[1;32m      5\u001b[0m     NonlinearModelOptions\n\u001b[1;32m      6\u001b[0m )\n",
      "File \u001b[0;32m~/uni/aibe/chain_control/cc/model/model.py:1\u001b[0m, in \u001b[0;36m<module>\u001b[0;34m\u001b[0m\n\u001b[0;32m----> 1\u001b[0m \u001b[39mfrom\u001b[39;00m \u001b[39m.\u001b[39;00m\u001b[39m.\u001b[39;00m\u001b[39mrhs\u001b[39;00m\u001b[39m.\u001b[39;00m\u001b[39mcommon_controller_model\u001b[39;00m \u001b[39mimport\u001b[39;00m (\n\u001b[1;32m      2\u001b[0m     rhs_state_LinearControllerModel,\n\u001b[1;32m      3\u001b[0m     rhs_state_NonlinearControllerModel,\n\u001b[1;32m      4\u001b[0m     LinearControllerModelOptions,\n\u001b[1;32m      5\u001b[0m     NonlinearControllerModelOptions\n\u001b[1;32m      6\u001b[0m )\n\u001b[1;32m      7\u001b[0m \u001b[39mfrom\u001b[39;00m \u001b[39m.\u001b[39;00m\u001b[39m.\u001b[39;00m\u001b[39mtypes\u001b[39;00m \u001b[39mimport\u001b[39;00m \u001b[39m*\u001b[39m\n\u001b[1;32m      8\u001b[0m \u001b[39mfrom\u001b[39;00m \u001b[39m.\u001b[39;00m\u001b[39m.\u001b[39;00m\u001b[39mabstract\u001b[39;00m \u001b[39mimport\u001b[39;00m AbstractModel, Y\n",
      "File \u001b[0;32m~/uni/aibe/chain_control/cc/rhs/common_controller_model.py:4\u001b[0m, in \u001b[0;36m<module>\u001b[0;34m\u001b[0m\n\u001b[1;32m      2\u001b[0m \u001b[39mfrom\u001b[39;00m \u001b[39mdataclasses\u001b[39;00m \u001b[39mimport\u001b[39;00m dataclass \n\u001b[1;32m      3\u001b[0m \u001b[39mfrom\u001b[39;00m \u001b[39m.\u001b[39;00m\u001b[39minitializers\u001b[39;00m \u001b[39mimport\u001b[39;00m state_init, ABCD_init, f_g_init\n\u001b[0;32m----> 4\u001b[0m \u001b[39mfrom\u001b[39;00m \u001b[39m.\u001b[39;00m\u001b[39mrhs\u001b[39;00m \u001b[39mimport\u001b[39;00m LinearRHS, LinearRHS_Params, NonlinearRHS\n\u001b[1;32m      5\u001b[0m \u001b[39mfrom\u001b[39;00m \u001b[39m.\u001b[39;00m\u001b[39m.\u001b[39;00m\u001b[39mtypes\u001b[39;00m \u001b[39mimport\u001b[39;00m \u001b[39m*\u001b[39m\n\u001b[1;32m      6\u001b[0m \u001b[39mimport\u001b[39;00m \u001b[39mjax\u001b[39;00m\u001b[39m.\u001b[39;00m\u001b[39mrandom\u001b[39;00m \u001b[39mas\u001b[39;00m \u001b[39mjrand\u001b[39;00m \n",
      "File \u001b[0;32m~/uni/aibe/chain_control/cc/rhs/rhs.py:1\u001b[0m, in \u001b[0;36m<module>\u001b[0;34m\u001b[0m\n\u001b[0;32m----> 1\u001b[0m \u001b[39mfrom\u001b[39;00m \u001b[39m.\u001b[39;00m\u001b[39m.\u001b[39;00m\u001b[39mutils\u001b[39;00m \u001b[39mimport\u001b[39;00m batch_concat\n\u001b[1;32m      2\u001b[0m \u001b[39mfrom\u001b[39;00m \u001b[39m.\u001b[39;00m\u001b[39mintegrate\u001b[39;00m \u001b[39mimport\u001b[39;00m integrate\n\u001b[1;32m      3\u001b[0m \u001b[39mfrom\u001b[39;00m \u001b[39m.\u001b[39;00m\u001b[39m.\u001b[39;00m\u001b[39mtypes\u001b[39;00m \u001b[39mimport\u001b[39;00m \u001b[39m*\u001b[39m\n",
      "File \u001b[0;32m~/uni/aibe/chain_control/cc/utils/__init__.py:1\u001b[0m, in \u001b[0;36m<module>\u001b[0;34m\u001b[0m\n\u001b[0;32m----> 1\u001b[0m \u001b[39mfrom\u001b[39;00m \u001b[39m.\u001b[39;00m\u001b[39mutils\u001b[39;00m \u001b[39mimport\u001b[39;00m \u001b[39m*\u001b[39m\n",
      "File \u001b[0;32m~/uni/aibe/chain_control/cc/utils/utils.py:6\u001b[0m, in \u001b[0;36m<module>\u001b[0;34m\u001b[0m\n\u001b[1;32m      4\u001b[0m \u001b[39mfrom\u001b[39;00m \u001b[39mfunctools\u001b[39;00m \u001b[39mimport\u001b[39;00m partial, reduce\n\u001b[1;32m      5\u001b[0m \u001b[39mimport\u001b[39;00m \u001b[39mcopy\u001b[39;00m \n\u001b[0;32m----> 6\u001b[0m \u001b[39mfrom\u001b[39;00m \u001b[39macme\u001b[39;00m\u001b[39m.\u001b[39;00m\u001b[39mjax\u001b[39;00m\u001b[39m.\u001b[39;00m\u001b[39mutils\u001b[39;00m \u001b[39mimport\u001b[39;00m batch_concat, zeros_like, add_batch_dim\n\u001b[1;32m      7\u001b[0m \u001b[39mimport\u001b[39;00m \u001b[39mjax\u001b[39;00m\u001b[39m.\u001b[39;00m\u001b[39mtree_util\u001b[39;00m \u001b[39mas\u001b[39;00m \u001b[39mjtu\u001b[39;00m \n\u001b[1;32m     10\u001b[0m \u001b[39mdef\u001b[39;00m \u001b[39mto_jax\u001b[39m(tree):\n",
      "File \u001b[0;32m~/miniconda3/envs/aibe/lib/python3.9/site-packages/acme/__init__.py:35\u001b[0m, in \u001b[0;36m<module>\u001b[0;34m\u001b[0m\n\u001b[1;32m     32\u001b[0m \u001b[39mfrom\u001b[39;00m \u001b[39macme\u001b[39;00m\u001b[39m.\u001b[39;00m\u001b[39mcore\u001b[39;00m \u001b[39mimport\u001b[39;00m Worker\n\u001b[1;32m     34\u001b[0m \u001b[39m# Expose the environment loop.\u001b[39;00m\n\u001b[0;32m---> 35\u001b[0m \u001b[39mfrom\u001b[39;00m \u001b[39macme\u001b[39;00m\u001b[39m.\u001b[39;00m\u001b[39menvironment_loop\u001b[39;00m \u001b[39mimport\u001b[39;00m EnvironmentLoop\n\u001b[1;32m     37\u001b[0m \u001b[39mfrom\u001b[39;00m \u001b[39macme\u001b[39;00m\u001b[39m.\u001b[39;00m\u001b[39mspecs\u001b[39;00m \u001b[39mimport\u001b[39;00m make_environment_spec\n",
      "File \u001b[0;32m~/miniconda3/envs/aibe/lib/python3.9/site-packages/acme/environment_loop.py:26\u001b[0m, in \u001b[0;36m<module>\u001b[0;34m\u001b[0m\n\u001b[1;32m     24\u001b[0m \u001b[39mfrom\u001b[39;00m \u001b[39macme\u001b[39;00m\u001b[39m.\u001b[39;00m\u001b[39mutils\u001b[39;00m \u001b[39mimport\u001b[39;00m loggers\n\u001b[1;32m     25\u001b[0m \u001b[39mfrom\u001b[39;00m \u001b[39macme\u001b[39;00m\u001b[39m.\u001b[39;00m\u001b[39mutils\u001b[39;00m \u001b[39mimport\u001b[39;00m observers \u001b[39mas\u001b[39;00m observers_lib\n\u001b[0;32m---> 26\u001b[0m \u001b[39mfrom\u001b[39;00m \u001b[39macme\u001b[39;00m\u001b[39m.\u001b[39;00m\u001b[39mutils\u001b[39;00m \u001b[39mimport\u001b[39;00m signals\n\u001b[1;32m     28\u001b[0m \u001b[39mimport\u001b[39;00m \u001b[39mdm_env\u001b[39;00m\n\u001b[1;32m     29\u001b[0m \u001b[39mfrom\u001b[39;00m \u001b[39mdm_env\u001b[39;00m \u001b[39mimport\u001b[39;00m specs\n",
      "File \u001b[0;32m~/miniconda3/envs/aibe/lib/python3.9/site-packages/acme/utils/signals.py:22\u001b[0m, in \u001b[0;36m<module>\u001b[0;34m\u001b[0m\n\u001b[1;32m     19\u001b[0m \u001b[39mimport\u001b[39;00m \u001b[39mthreading\u001b[39;00m\n\u001b[1;32m     20\u001b[0m \u001b[39mfrom\u001b[39;00m \u001b[39mtyping\u001b[39;00m \u001b[39mimport\u001b[39;00m Any, Callable, Optional\n\u001b[0;32m---> 22\u001b[0m \u001b[39mimport\u001b[39;00m \u001b[39mlaunchpad\u001b[39;00m\n\u001b[1;32m     24\u001b[0m _Handler \u001b[39m=\u001b[39m Callable[[], Any]\n\u001b[1;32m     27\u001b[0m \u001b[39m@contextlib\u001b[39m\u001b[39m.\u001b[39mcontextmanager\n\u001b[1;32m     28\u001b[0m \u001b[39mdef\u001b[39;00m \u001b[39mruntime_terminator\u001b[39m(callback: Optional[_Handler] \u001b[39m=\u001b[39m \u001b[39mNone\u001b[39;00m):\n",
      "File \u001b[0;32m~/miniconda3/envs/aibe/lib/python3.9/site-packages/launchpad/__init__.py:36\u001b[0m, in \u001b[0;36m<module>\u001b[0;34m\u001b[0m\n\u001b[1;32m     33\u001b[0m \u001b[39mfrom\u001b[39;00m \u001b[39mlaunchpad\u001b[39;00m\u001b[39m.\u001b[39;00m\u001b[39mlaunch\u001b[39;00m\u001b[39m.\u001b[39;00m\u001b[39mlaunch\u001b[39;00m \u001b[39mimport\u001b[39;00m launch\n\u001b[1;32m     35\u001b[0m \u001b[39m# Nodes\u001b[39;00m\n\u001b[0;32m---> 36\u001b[0m \u001b[39mfrom\u001b[39;00m \u001b[39mlaunchpad\u001b[39;00m\u001b[39m.\u001b[39;00m\u001b[39mnodes\u001b[39;00m\u001b[39m.\u001b[39;00m\u001b[39mcourier\u001b[39;00m\u001b[39m.\u001b[39;00m\u001b[39mnode\u001b[39;00m \u001b[39mimport\u001b[39;00m CourierHandle\n\u001b[1;32m     37\u001b[0m \u001b[39mfrom\u001b[39;00m \u001b[39mlaunchpad\u001b[39;00m\u001b[39m.\u001b[39;00m\u001b[39mnodes\u001b[39;00m\u001b[39m.\u001b[39;00m\u001b[39mcourier\u001b[39;00m\u001b[39m.\u001b[39;00m\u001b[39mnode\u001b[39;00m \u001b[39mimport\u001b[39;00m CourierNode\n\u001b[1;32m     38\u001b[0m \u001b[39mfrom\u001b[39;00m \u001b[39mlaunchpad\u001b[39;00m\u001b[39m.\u001b[39;00m\u001b[39mnodes\u001b[39;00m\u001b[39m.\u001b[39;00m\u001b[39mcourier\u001b[39;00m\u001b[39m.\u001b[39;00m\u001b[39mnode\u001b[39;00m \u001b[39mimport\u001b[39;00m CourierClient\n",
      "File \u001b[0;32m~/miniconda3/envs/aibe/lib/python3.9/site-packages/launchpad/nodes/courier/node.py:21\u001b[0m, in \u001b[0;36m<module>\u001b[0;34m\u001b[0m\n\u001b[1;32m     18\u001b[0m \u001b[39mfrom\u001b[39;00m \u001b[39mtyping\u001b[39;00m \u001b[39mimport\u001b[39;00m Callable, Generic, TypeVar\n\u001b[1;32m     20\u001b[0m \u001b[39mfrom\u001b[39;00m \u001b[39mabsl\u001b[39;00m \u001b[39mimport\u001b[39;00m logging\n\u001b[0;32m---> 21\u001b[0m \u001b[39mimport\u001b[39;00m \u001b[39mcourier\u001b[39;00m\n\u001b[1;32m     22\u001b[0m \u001b[39mfrom\u001b[39;00m \u001b[39mlaunchpad\u001b[39;00m \u001b[39mimport\u001b[39;00m address \u001b[39mas\u001b[39;00m lp_address\n\u001b[1;32m     23\u001b[0m \u001b[39mfrom\u001b[39;00m \u001b[39mlaunchpad\u001b[39;00m\u001b[39m.\u001b[39;00m\u001b[39mlaunch\u001b[39;00m \u001b[39mimport\u001b[39;00m worker_manager\n",
      "File \u001b[0;32m~/miniconda3/envs/aibe/lib/python3.9/site-packages/courier/__init__.py:26\u001b[0m, in \u001b[0;36m<module>\u001b[0;34m\u001b[0m\n\u001b[1;32m     11\u001b[0m \u001b[39m# Copyright 2020 DeepMind Technologies Limited. All rights reserved.\u001b[39;00m\n\u001b[1;32m     12\u001b[0m \u001b[39m#\u001b[39;00m\n\u001b[1;32m     13\u001b[0m \u001b[39m# Licensed under the Apache License, Version 2.0 (the \"License\");\u001b[39;00m\n\u001b[0;32m   (...)\u001b[0m\n\u001b[1;32m     22\u001b[0m \u001b[39m# See the License for the specific language governing permissions and\u001b[39;00m\n\u001b[1;32m     23\u001b[0m \u001b[39m# limitations under the License.\u001b[39;00m\n\u001b[1;32m     25\u001b[0m \u001b[39m\"\"\"Courier module.\"\"\"\u001b[39;00m\n\u001b[0;32m---> 26\u001b[0m \u001b[39mfrom\u001b[39;00m \u001b[39mcourier\u001b[39;00m\u001b[39m.\u001b[39;00m\u001b[39mpython\u001b[39;00m\u001b[39m.\u001b[39;00m\u001b[39mclient\u001b[39;00m \u001b[39mimport\u001b[39;00m Client  \u001b[39m# pytype: disable=import-error\u001b[39;00m\n\u001b[1;32m     27\u001b[0m \u001b[39mfrom\u001b[39;00m \u001b[39mcourier\u001b[39;00m\u001b[39m.\u001b[39;00m\u001b[39mpython\u001b[39;00m\u001b[39m.\u001b[39;00m\u001b[39mclient\u001b[39;00m \u001b[39mimport\u001b[39;00m list_methods  \u001b[39m# pytype: disable=import-error\u001b[39;00m\n\u001b[1;32m     28\u001b[0m \u001b[39mfrom\u001b[39;00m \u001b[39mcourier\u001b[39;00m\u001b[39m.\u001b[39;00m\u001b[39mpython\u001b[39;00m\u001b[39m.\u001b[39;00m\u001b[39mpy_server\u001b[39;00m \u001b[39mimport\u001b[39;00m Server\n",
      "File \u001b[0;32m~/miniconda3/envs/aibe/lib/python3.9/site-packages/courier/python/client.py:30\u001b[0m, in \u001b[0;36m<module>\u001b[0;34m\u001b[0m\n\u001b[1;32m     27\u001b[0m \u001b[39mimport\u001b[39;00m \u001b[39mdatetime\u001b[39;00m\n\u001b[1;32m     28\u001b[0m \u001b[39mfrom\u001b[39;00m \u001b[39mtyping\u001b[39;00m \u001b[39mimport\u001b[39;00m List, Optional, Union\n\u001b[0;32m---> 30\u001b[0m \u001b[39mfrom\u001b[39;00m \u001b[39mcourier\u001b[39;00m\u001b[39m.\u001b[39;00m\u001b[39mpython\u001b[39;00m \u001b[39mimport\u001b[39;00m py_client\n\u001b[1;32m     31\u001b[0m \u001b[39m# Numpy import needed for proper operation of ../serialization/py_serialize.cc\u001b[39;00m\n\u001b[1;32m     32\u001b[0m \u001b[39mimport\u001b[39;00m \u001b[39mnumpy\u001b[39;00m  \n",
      "\u001b[0;31mImportError\u001b[0m: libpython3.9.so.1.0: cannot open shared object file: No such file or directory"
     ]
    }
   ],
   "source": [
    "from cc.model import LinearModel, LinearModelOptions, NonlinearModelOptions, NonlinearModel\n",
    "from cc.model.eval_model import eval_model\n",
    "from cc.collect import collect_sample\n",
    "from cc.env import make_env, ModelBasedEnv\n",
    "from cc.train import train_model, TrainingOptionsModel\n",
    "from cc import save, load \n",
    "import jax.random as jrand\n",
    "import optax  "
   ]
  },
  {
   "cell_type": "code",
   "execution_count": null,
   "metadata": {},
   "outputs": [],
   "source": [
    "time_limit = 10.0\n",
    "control_timestep = 0.01\n",
    "\n",
    "env = make_env(\"two_segments_v1\", time_limit=time_limit, control_timestep=control_timestep, random=1)"
   ]
  },
  {
   "cell_type": "code",
   "execution_count": null,
   "metadata": {},
   "outputs": [],
   "source": [
    "train_sample = collect_sample(\n",
    "    env,\n",
    "    seeds_gp=[0,1,2,4,5,6,7,8,9,10,11,12,13,14],\n",
    "    seeds_cos=[1,2,3,4,5,6,7,8,9,10,11,12,13,14,15]\n",
    ")\n",
    "\n",
    "test_sample = collect_sample(\n",
    "    env, \n",
    "    seeds_gp=[15, 16, 17, 18, 19],\n",
    "    seeds_cos=[2.5, 5.0, 7.5, 10.0, 12.5] # really shouldn't be called seeds, rather frequency\n",
    ")"
   ]
  },
  {
   "cell_type": "code",
   "execution_count": null,
   "metadata": {},
   "outputs": [],
   "source": [
    "options = NonlinearModelOptions(\n",
    "    12, 1, 1, # state-size, input-size, output-size\n",
    "    \"EE\", # integrate-method\n",
    "    jrand.PRNGKey(1,), # seed for parameter init\n",
    "    depth_f=2, # number of layers \n",
    "    width_f=25, # width of layers\n",
    "    depth_g=0,\n",
    ")"
   ]
  },
  {
   "cell_type": "code",
   "execution_count": null,
   "metadata": {},
   "outputs": [],
   "source": [
    "model = NonlinearModel(options)"
   ]
  },
  {
   "cell_type": "code",
   "execution_count": null,
   "metadata": {},
   "outputs": [
    {
     "name": "stdout",
     "output_type": "stream",
     "text": [
      "WARNING: Object <class 'cc.model.model.NonlinearModel'> is being traced. \n",
      "            If this message is display continuously then you probably forgot to compile the model or controller. \n",
      "            This can be fixed by calling `*model/controller* = equniox.filter_jit(*model/controller*).\n",
      "            \n"
     ]
    }
   ],
   "source": [
    "import numpy as np\n",
    "\n",
    "\n",
    "action = np.array([0.2])\n",
    "# this returns a new model with an updated internal state\n",
    "# and of course the actual prediction of the observation\n",
    "new_model, predicted_obs = model(action)"
   ]
  },
  {
   "cell_type": "code",
   "execution_count": null,
   "metadata": {},
   "outputs": [
    {
     "data": {
      "text/plain": [
       "OrderedDict([('xpos_of_segment_end',\n",
       "              DeviceArray([0.01827196], dtype=float32))])"
      ]
     },
     "execution_count": 32,
     "metadata": {},
     "output_type": "execute_result"
    }
   ],
   "source": [
    "predicted_obs"
   ]
  },
  {
   "cell_type": "code",
   "execution_count": null,
   "metadata": {},
   "outputs": [
    {
     "data": {
      "text/plain": [
       "cc.model.model.NonlinearModel"
      ]
     },
     "execution_count": 33,
     "metadata": {},
     "output_type": "execute_result"
    }
   ],
   "source": [
    "type(new_model)"
   ]
  },
  {
   "cell_type": "code",
   "execution_count": null,
   "metadata": {},
   "outputs": [
    {
     "name": "stderr",
     "output_type": "stream",
     "text": [
      "  0%|          | 0/1000 [00:00<?, ?it/s]"
     ]
    },
    {
     "name": "stdout",
     "output_type": "stream",
     "text": [
      "WARNING: Object <class 'cc.model.model.NonlinearModel'> is being traced. \n",
      "            If this message is display continuously then you probably forgot to compile the model or controller. \n",
      "            This can be fixed by calling `*model/controller* = equniox.filter_jit(*model/controller*).\n",
      "            \n",
      "WARNING: Object <class 'cc.model.model.NonlinearModel'> is being traced. \n",
      "            If this message is display continuously then you probably forgot to compile the model or controller. \n",
      "            This can be fixed by calling `*model/controller* = equniox.filter_jit(*model/controller*).\n",
      "            \n",
      "WARNING: Object <class 'cc.model.model.NonlinearModel'> is being traced. \n",
      "            If this message is display continuously then you probably forgot to compile the model or controller. \n",
      "            This can be fixed by calling `*model/controller* = equniox.filter_jit(*model/controller*).\n",
      "            \n",
      "WARNING: Object <class 'cc.model.model.NonlinearModel'> is being traced. \n",
      "            If this message is display continuously then you probably forgot to compile the model or controller. \n",
      "            This can be fixed by calling `*model/controller* = equniox.filter_jit(*model/controller*).\n",
      "            \n"
     ]
    },
    {
     "name": "stderr",
     "output_type": "stream",
     "text": [
      "Trainings-Loss:     0.8498 | Test-Loss:     7.1419 | ParamsRegu:     0.0259:   0%|          | 1/1000 [00:01<19:37,  1.18s/it]"
     ]
    },
    {
     "name": "stdout",
     "output_type": "stream",
     "text": [
      "WARNING: Object <class 'cc.model.model.NonlinearModel'> is being traced. \n",
      "            If this message is display continuously then you probably forgot to compile the model or controller. \n",
      "            This can be fixed by calling `*model/controller* = equniox.filter_jit(*model/controller*).\n",
      "            \n",
      "WARNING: Object <class 'cc.model.model.NonlinearModel'> is being traced. \n",
      "            If this message is display continuously then you probably forgot to compile the model or controller. \n",
      "            This can be fixed by calling `*model/controller* = equniox.filter_jit(*model/controller*).\n",
      "            \n",
      "WARNING: Object <class 'cc.model.model.NonlinearModel'> is being traced. \n",
      "            If this message is display continuously then you probably forgot to compile the model or controller. \n",
      "            This can be fixed by calling `*model/controller* = equniox.filter_jit(*model/controller*).\n",
      "            \n",
      "WARNING: Object <class 'cc.model.model.NonlinearModel'> is being traced. \n",
      "            If this message is display continuously then you probably forgot to compile the model or controller. \n",
      "            This can be fixed by calling `*model/controller* = equniox.filter_jit(*model/controller*).\n",
      "            \n"
     ]
    },
    {
     "name": "stderr",
     "output_type": "stream",
     "text": [
      "Trainings-Loss:     0.3967 | Test-Loss:     4.2053 | ParamsRegu:     0.0280: 100%|██████████| 1000/1000 [00:25<00:00, 39.09it/s]\n"
     ]
    }
   ],
   "source": [
    "training_options = TrainingOptionsModel(\n",
    "    optax.adam(3e-3), 0.05, 1000, 1, True \n",
    ")\n",
    "\n",
    "# requires ~25 seconds on my PC\n",
    "# achieves a Test-Loss of ~4.2 on v1\n",
    "model, losses = train_model(model, train_sample, training_options=training_options, test_sample=test_sample)"
   ]
  },
  {
   "cell_type": "code",
   "execution_count": null,
   "metadata": {},
   "outputs": [
    {
     "name": "stdout",
     "output_type": "stream",
     "text": [
      "WARNING: Object <class 'cc.model.model.NonlinearModel'> is being traced. \n",
      "            If this message is display continuously then you probably forgot to compile the model or controller. \n",
      "            This can be fixed by calling `*model/controller* = equniox.filter_jit(*model/controller*).\n",
      "            \n",
      "WARNING: Object <class 'cc.model.model.NonlinearModel'> is being traced. \n",
      "            If this message is display continuously then you probably forgot to compile the model or controller. \n",
      "            This can be fixed by calling `*model/controller* = equniox.filter_jit(*model/controller*).\n",
      "            \n"
     ]
    }
   ],
   "source": [
    "# small little helper function\n",
    "predicted_observation, test_rmse = eval_model(model, test_sample)"
   ]
  },
  {
   "cell_type": "code",
   "execution_count": null,
   "metadata": {},
   "outputs": [
    {
     "data": {
      "text/plain": [
       "(10, 1001, 1)"
      ]
     },
     "execution_count": 37,
     "metadata": {},
     "output_type": "execute_result"
    }
   ],
   "source": [
    "predicted_observation[\"xpos_of_segment_end\"].shape"
   ]
  },
  {
   "cell_type": "code",
   "execution_count": null,
   "metadata": {},
   "outputs": [
    {
     "data": {
      "text/plain": [
       "OrderedDict([('xpos_of_segment_end', DeviceArray(1.9408518, dtype=float32))])"
      ]
     },
     "execution_count": 38,
     "metadata": {},
     "output_type": "execute_result"
    }
   ],
   "source": [
    "test_rmse"
   ]
  },
  {
   "cell_type": "markdown",
   "metadata": {},
   "source": [
    "Finally, you can also replace the `Mujoco` physics component in your environment with your model. \n",
    "\n",
    "This creates a new environment that looks exactly the same from outside."
   ]
  },
  {
   "cell_type": "code",
   "execution_count": null,
   "metadata": {},
   "outputs": [],
   "source": [
    "env_model = ModelBasedEnv(env, model, time_limit=time_limit, control_timestep=control_timestep)"
   ]
  },
  {
   "cell_type": "code",
   "execution_count": null,
   "metadata": {},
   "outputs": [
    {
     "data": {
      "text/plain": [
       "TimeStep(step_type=<StepType.MID: 1>, reward=array(0.), discount=array(1., dtype=float32), observation=OrderedDict([('xpos_of_segment_end', array([0.04514713], dtype=float32))]))"
      ]
     },
     "execution_count": 40,
     "metadata": {},
     "output_type": "execute_result"
    }
   ],
   "source": [
    "env_model.step([0.2])"
   ]
  },
  {
   "cell_type": "code",
   "execution_count": null,
   "metadata": {},
   "outputs": [],
   "source": [
    "# save model \n",
    "save(model, \"model_for_two_segments_v1.pkl\")"
   ]
  },
  {
   "cell_type": "code",
   "execution_count": null,
   "metadata": {},
   "outputs": [
    {
     "data": {
      "text/plain": [
       "NonlinearModel(\n",
       "  rhs=NonlinearRHS(\n",
       "    f=MLP(\n",
       "      layers=[\n",
       "        Linear(\n",
       "          weight=f32[25,13],\n",
       "          bias=f32[25],\n",
       "          in_features=13,\n",
       "          out_features=25,\n",
       "          use_bias=True\n",
       "        ),\n",
       "        Linear(\n",
       "          weight=f32[25,25],\n",
       "          bias=f32[25],\n",
       "          in_features=25,\n",
       "          out_features=25,\n",
       "          use_bias=True\n",
       "        ),\n",
       "        Linear(\n",
       "          weight=f32[12,25],\n",
       "          bias=f32[12],\n",
       "          in_features=25,\n",
       "          out_features=12,\n",
       "          use_bias=True\n",
       "        )\n",
       "      ],\n",
       "      activation=<CompiledFunction>,\n",
       "      final_activation=<function <lambda>>,\n",
       "      in_size=13,\n",
       "      out_size=12,\n",
       "      width_size=25,\n",
       "      depth=2\n",
       "    ),\n",
       "    g=MLP(\n",
       "      layers=[\n",
       "        Linear(\n",
       "          weight=f32[1,12],\n",
       "          bias=f32[1],\n",
       "          in_features=12,\n",
       "          out_features=1,\n",
       "          use_bias=True\n",
       "        )\n",
       "      ],\n",
       "      activation=<CompiledFunction>,\n",
       "      final_activation=<function <lambda>>,\n",
       "      in_size=12,\n",
       "      out_size=1,\n",
       "      width_size=0,\n",
       "      depth=0\n",
       "    ),\n",
       "    _init_state=NotAParameter(_=f32[12]),\n",
       "    method='EE'\n",
       "  ),\n",
       "  state=NotAParameter(_=f32[12]),\n",
       "  input_size=1,\n",
       "  output_size=1\n",
       ")"
      ]
     },
     "execution_count": 42,
     "metadata": {},
     "output_type": "execute_result"
    }
   ],
   "source": [
    "load(\"model_for_two_segments_v1.pkl\")"
   ]
  },
  {
   "cell_type": "code",
   "execution_count": null,
   "metadata": {},
   "outputs": [],
   "source": []
  }
 ],
 "metadata": {
  "kernelspec": {
   "display_name": "Python 3.9.13 ('aibe')",
   "language": "python",
   "name": "python3"
  },
  "language_info": {
   "codemirror_mode": {
    "name": "ipython",
    "version": 3
   },
   "file_extension": ".py",
   "mimetype": "text/x-python",
   "name": "python",
   "nbconvert_exporter": "python",
   "pygments_lexer": "ipython3",
   "version": "3.9.13"
  },
  "orig_nbformat": 4,
  "vscode": {
   "interpreter": {
    "hash": "8ba084acad79e0f91d5a5588d305de266bf23ec298932ec3a210886ceb659ff1"
   }
  }
 },
 "nbformat": 4,
 "nbformat_minor": 2
}
